{
 "cells": [
  {
   "cell_type": "markdown",
   "metadata": {},
   "source": [
    "### Predicting the price of used cars using ANN"
   ]
  },
  {
   "cell_type": "code",
   "execution_count": 803,
   "metadata": {},
   "outputs": [],
   "source": [
    "import warnings\n",
    "\n",
    "# Ignore all warnings\n",
    "warnings.filterwarnings('ignore')\n",
    "import pandas as pd"
   ]
  },
  {
   "cell_type": "code",
   "execution_count": 804,
   "metadata": {},
   "outputs": [
    {
     "data": {
      "text/html": [
       "<div>\n",
       "<style scoped>\n",
       "    .dataframe tbody tr th:only-of-type {\n",
       "        vertical-align: middle;\n",
       "    }\n",
       "\n",
       "    .dataframe tbody tr th {\n",
       "        vertical-align: top;\n",
       "    }\n",
       "\n",
       "    .dataframe thead th {\n",
       "        text-align: right;\n",
       "    }\n",
       "</style>\n",
       "<table border=\"1\" class=\"dataframe\">\n",
       "  <thead>\n",
       "    <tr style=\"text-align: right;\">\n",
       "      <th></th>\n",
       "      <th>brand</th>\n",
       "      <th>model</th>\n",
       "      <th>model_year</th>\n",
       "      <th>milage</th>\n",
       "      <th>fuel_type</th>\n",
       "      <th>engine</th>\n",
       "      <th>transmission</th>\n",
       "      <th>ext_col</th>\n",
       "      <th>int_col</th>\n",
       "      <th>accident</th>\n",
       "      <th>clean_title</th>\n",
       "      <th>price</th>\n",
       "    </tr>\n",
       "  </thead>\n",
       "  <tbody>\n",
       "    <tr>\n",
       "      <th>0</th>\n",
       "      <td>Ford</td>\n",
       "      <td>Utility Police Interceptor Base</td>\n",
       "      <td>2013</td>\n",
       "      <td>51,000 mi.</td>\n",
       "      <td>E85 Flex Fuel</td>\n",
       "      <td>300.0HP 3.7L V6 Cylinder Engine Flex Fuel Capa...</td>\n",
       "      <td>6-Speed A/T</td>\n",
       "      <td>Black</td>\n",
       "      <td>Black</td>\n",
       "      <td>At least 1 accident or damage reported</td>\n",
       "      <td>Yes</td>\n",
       "      <td>$10,300</td>\n",
       "    </tr>\n",
       "    <tr>\n",
       "      <th>1</th>\n",
       "      <td>Hyundai</td>\n",
       "      <td>Palisade SEL</td>\n",
       "      <td>2021</td>\n",
       "      <td>34,742 mi.</td>\n",
       "      <td>Gasoline</td>\n",
       "      <td>3.8L V6 24V GDI DOHC</td>\n",
       "      <td>8-Speed Automatic</td>\n",
       "      <td>Moonlight Cloud</td>\n",
       "      <td>Gray</td>\n",
       "      <td>At least 1 accident or damage reported</td>\n",
       "      <td>Yes</td>\n",
       "      <td>$38,005</td>\n",
       "    </tr>\n",
       "    <tr>\n",
       "      <th>2</th>\n",
       "      <td>Lexus</td>\n",
       "      <td>RX 350 RX 350</td>\n",
       "      <td>2022</td>\n",
       "      <td>22,372 mi.</td>\n",
       "      <td>Gasoline</td>\n",
       "      <td>3.5 Liter DOHC</td>\n",
       "      <td>Automatic</td>\n",
       "      <td>Blue</td>\n",
       "      <td>Black</td>\n",
       "      <td>None reported</td>\n",
       "      <td>NaN</td>\n",
       "      <td>$54,598</td>\n",
       "    </tr>\n",
       "    <tr>\n",
       "      <th>3</th>\n",
       "      <td>INFINITI</td>\n",
       "      <td>Q50 Hybrid Sport</td>\n",
       "      <td>2015</td>\n",
       "      <td>88,900 mi.</td>\n",
       "      <td>Hybrid</td>\n",
       "      <td>354.0HP 3.5L V6 Cylinder Engine Gas/Electric H...</td>\n",
       "      <td>7-Speed A/T</td>\n",
       "      <td>Black</td>\n",
       "      <td>Black</td>\n",
       "      <td>None reported</td>\n",
       "      <td>Yes</td>\n",
       "      <td>$15,500</td>\n",
       "    </tr>\n",
       "    <tr>\n",
       "      <th>4</th>\n",
       "      <td>Audi</td>\n",
       "      <td>Q3 45 S line Premium Plus</td>\n",
       "      <td>2021</td>\n",
       "      <td>9,835 mi.</td>\n",
       "      <td>Gasoline</td>\n",
       "      <td>2.0L I4 16V GDI DOHC Turbo</td>\n",
       "      <td>8-Speed Automatic</td>\n",
       "      <td>Glacier White Metallic</td>\n",
       "      <td>Black</td>\n",
       "      <td>None reported</td>\n",
       "      <td>NaN</td>\n",
       "      <td>$34,999</td>\n",
       "    </tr>\n",
       "  </tbody>\n",
       "</table>\n",
       "</div>"
      ],
      "text/plain": [
       "      brand                            model  model_year      milage  \\\n",
       "0      Ford  Utility Police Interceptor Base        2013  51,000 mi.   \n",
       "1   Hyundai                     Palisade SEL        2021  34,742 mi.   \n",
       "2     Lexus                    RX 350 RX 350        2022  22,372 mi.   \n",
       "3  INFINITI                 Q50 Hybrid Sport        2015  88,900 mi.   \n",
       "4      Audi        Q3 45 S line Premium Plus        2021   9,835 mi.   \n",
       "\n",
       "       fuel_type                                             engine  \\\n",
       "0  E85 Flex Fuel  300.0HP 3.7L V6 Cylinder Engine Flex Fuel Capa...   \n",
       "1       Gasoline                               3.8L V6 24V GDI DOHC   \n",
       "2       Gasoline                                     3.5 Liter DOHC   \n",
       "3         Hybrid  354.0HP 3.5L V6 Cylinder Engine Gas/Electric H...   \n",
       "4       Gasoline                         2.0L I4 16V GDI DOHC Turbo   \n",
       "\n",
       "        transmission                 ext_col int_col  \\\n",
       "0        6-Speed A/T                   Black   Black   \n",
       "1  8-Speed Automatic         Moonlight Cloud    Gray   \n",
       "2          Automatic                    Blue   Black   \n",
       "3        7-Speed A/T                   Black   Black   \n",
       "4  8-Speed Automatic  Glacier White Metallic   Black   \n",
       "\n",
       "                                 accident clean_title    price  \n",
       "0  At least 1 accident or damage reported         Yes  $10,300  \n",
       "1  At least 1 accident or damage reported         Yes  $38,005  \n",
       "2                           None reported         NaN  $54,598  \n",
       "3                           None reported         Yes  $15,500  \n",
       "4                           None reported         NaN  $34,999  "
      ]
     },
     "execution_count": 804,
     "metadata": {},
     "output_type": "execute_result"
    }
   ],
   "source": [
    "df = pd.read_csv('used_cars.csv')\n",
    "df.head()"
   ]
  },
  {
   "cell_type": "code",
   "execution_count": 805,
   "metadata": {},
   "outputs": [
    {
     "data": {
      "text/plain": [
       "(4009, 12)"
      ]
     },
     "execution_count": 805,
     "metadata": {},
     "output_type": "execute_result"
    }
   ],
   "source": [
    "df.shape"
   ]
  },
  {
   "cell_type": "markdown",
   "metadata": {},
   "source": [
    "### Checking for null values"
   ]
  },
  {
   "cell_type": "code",
   "execution_count": 806,
   "metadata": {},
   "outputs": [
    {
     "data": {
      "text/plain": [
       "brand            0.000000\n",
       "model            0.000000\n",
       "model_year       0.000000\n",
       "milage           0.000000\n",
       "fuel_type        4.240459\n",
       "engine           0.000000\n",
       "transmission     0.000000\n",
       "ext_col          0.000000\n",
       "int_col          0.000000\n",
       "accident         2.818658\n",
       "clean_title     14.866550\n",
       "price            0.000000\n",
       "dtype: float64"
      ]
     },
     "execution_count": 806,
     "metadata": {},
     "output_type": "execute_result"
    }
   ],
   "source": [
    "(df.isna().sum() / df.shape[0])*100"
   ]
  },
  {
   "cell_type": "code",
   "execution_count": 807,
   "metadata": {},
   "outputs": [
    {
     "data": {
      "text/plain": [
       "clean_title\n",
       "Yes    3413\n",
       "Name: count, dtype: int64"
      ]
     },
     "execution_count": 807,
     "metadata": {},
     "output_type": "execute_result"
    }
   ],
   "source": [
    "df['clean_title'].value_counts()"
   ]
  },
  {
   "cell_type": "code",
   "execution_count": 808,
   "metadata": {},
   "outputs": [],
   "source": [
    "df['clean_title'] = df['clean_title'].fillna('No')"
   ]
  },
  {
   "cell_type": "code",
   "execution_count": 809,
   "metadata": {},
   "outputs": [
    {
     "data": {
      "text/plain": [
       "clean_title\n",
       "Yes    3413\n",
       "No      596\n",
       "Name: count, dtype: int64"
      ]
     },
     "execution_count": 809,
     "metadata": {},
     "output_type": "execute_result"
    }
   ],
   "source": [
    "df['clean_title'].value_counts()"
   ]
  },
  {
   "cell_type": "code",
   "execution_count": 810,
   "metadata": {},
   "outputs": [
    {
     "data": {
      "text/plain": [
       "accident\n",
       "None reported                             2910\n",
       "At least 1 accident or damage reported     986\n",
       "Name: count, dtype: int64"
      ]
     },
     "execution_count": 810,
     "metadata": {},
     "output_type": "execute_result"
    }
   ],
   "source": [
    "df[\"accident\"].value_counts()"
   ]
  },
  {
   "cell_type": "code",
   "execution_count": 811,
   "metadata": {},
   "outputs": [],
   "source": [
    "df.dropna(inplace=True)"
   ]
  },
  {
   "cell_type": "code",
   "execution_count": 812,
   "metadata": {},
   "outputs": [
    {
     "data": {
      "text/plain": [
       "brand           0.0\n",
       "model           0.0\n",
       "model_year      0.0\n",
       "milage          0.0\n",
       "fuel_type       0.0\n",
       "engine          0.0\n",
       "transmission    0.0\n",
       "ext_col         0.0\n",
       "int_col         0.0\n",
       "accident        0.0\n",
       "clean_title     0.0\n",
       "price           0.0\n",
       "dtype: float64"
      ]
     },
     "execution_count": 812,
     "metadata": {},
     "output_type": "execute_result"
    }
   ],
   "source": [
    "(df.isna().sum() / df.shape[0])*100"
   ]
  },
  {
   "cell_type": "code",
   "execution_count": 813,
   "metadata": {},
   "outputs": [
    {
     "data": {
      "text/plain": [
       "(3730, 12)"
      ]
     },
     "execution_count": 813,
     "metadata": {},
     "output_type": "execute_result"
    }
   ],
   "source": [
    "df.shape"
   ]
  },
  {
   "cell_type": "markdown",
   "metadata": {},
   "source": [
    "### Checking for duplicates "
   ]
  },
  {
   "cell_type": "code",
   "execution_count": 814,
   "metadata": {},
   "outputs": [
    {
     "data": {
      "text/html": [
       "<div>\n",
       "<style scoped>\n",
       "    .dataframe tbody tr th:only-of-type {\n",
       "        vertical-align: middle;\n",
       "    }\n",
       "\n",
       "    .dataframe tbody tr th {\n",
       "        vertical-align: top;\n",
       "    }\n",
       "\n",
       "    .dataframe thead th {\n",
       "        text-align: right;\n",
       "    }\n",
       "</style>\n",
       "<table border=\"1\" class=\"dataframe\">\n",
       "  <thead>\n",
       "    <tr style=\"text-align: right;\">\n",
       "      <th></th>\n",
       "      <th>brand</th>\n",
       "      <th>model</th>\n",
       "      <th>model_year</th>\n",
       "      <th>milage</th>\n",
       "      <th>fuel_type</th>\n",
       "      <th>engine</th>\n",
       "      <th>transmission</th>\n",
       "      <th>ext_col</th>\n",
       "      <th>int_col</th>\n",
       "      <th>accident</th>\n",
       "      <th>clean_title</th>\n",
       "      <th>price</th>\n",
       "    </tr>\n",
       "  </thead>\n",
       "  <tbody>\n",
       "  </tbody>\n",
       "</table>\n",
       "</div>"
      ],
      "text/plain": [
       "Empty DataFrame\n",
       "Columns: [brand, model, model_year, milage, fuel_type, engine, transmission, ext_col, int_col, accident, clean_title, price]\n",
       "Index: []"
      ]
     },
     "execution_count": 814,
     "metadata": {},
     "output_type": "execute_result"
    }
   ],
   "source": [
    "df[df.duplicated()]"
   ]
  },
  {
   "cell_type": "code",
   "execution_count": 815,
   "metadata": {},
   "outputs": [
    {
     "data": {
      "text/html": [
       "<div>\n",
       "<style scoped>\n",
       "    .dataframe tbody tr th:only-of-type {\n",
       "        vertical-align: middle;\n",
       "    }\n",
       "\n",
       "    .dataframe tbody tr th {\n",
       "        vertical-align: top;\n",
       "    }\n",
       "\n",
       "    .dataframe thead th {\n",
       "        text-align: right;\n",
       "    }\n",
       "</style>\n",
       "<table border=\"1\" class=\"dataframe\">\n",
       "  <thead>\n",
       "    <tr style=\"text-align: right;\">\n",
       "      <th></th>\n",
       "      <th>brand</th>\n",
       "      <th>model</th>\n",
       "      <th>model_year</th>\n",
       "      <th>milage</th>\n",
       "      <th>fuel_type</th>\n",
       "      <th>engine</th>\n",
       "      <th>transmission</th>\n",
       "      <th>ext_col</th>\n",
       "      <th>int_col</th>\n",
       "      <th>accident</th>\n",
       "      <th>clean_title</th>\n",
       "      <th>price</th>\n",
       "    </tr>\n",
       "  </thead>\n",
       "  <tbody>\n",
       "    <tr>\n",
       "      <th>0</th>\n",
       "      <td>Ford</td>\n",
       "      <td>Utility Police Interceptor Base</td>\n",
       "      <td>2013</td>\n",
       "      <td>51,000 mi.</td>\n",
       "      <td>E85 Flex Fuel</td>\n",
       "      <td>300.0HP 3.7L V6 Cylinder Engine Flex Fuel Capa...</td>\n",
       "      <td>6-Speed A/T</td>\n",
       "      <td>Black</td>\n",
       "      <td>Black</td>\n",
       "      <td>At least 1 accident or damage reported</td>\n",
       "      <td>Yes</td>\n",
       "      <td>$10,300</td>\n",
       "    </tr>\n",
       "    <tr>\n",
       "      <th>1</th>\n",
       "      <td>Hyundai</td>\n",
       "      <td>Palisade SEL</td>\n",
       "      <td>2021</td>\n",
       "      <td>34,742 mi.</td>\n",
       "      <td>Gasoline</td>\n",
       "      <td>3.8L V6 24V GDI DOHC</td>\n",
       "      <td>8-Speed Automatic</td>\n",
       "      <td>Moonlight Cloud</td>\n",
       "      <td>Gray</td>\n",
       "      <td>At least 1 accident or damage reported</td>\n",
       "      <td>Yes</td>\n",
       "      <td>$38,005</td>\n",
       "    </tr>\n",
       "    <tr>\n",
       "      <th>2</th>\n",
       "      <td>Lexus</td>\n",
       "      <td>RX 350 RX 350</td>\n",
       "      <td>2022</td>\n",
       "      <td>22,372 mi.</td>\n",
       "      <td>Gasoline</td>\n",
       "      <td>3.5 Liter DOHC</td>\n",
       "      <td>Automatic</td>\n",
       "      <td>Blue</td>\n",
       "      <td>Black</td>\n",
       "      <td>None reported</td>\n",
       "      <td>No</td>\n",
       "      <td>$54,598</td>\n",
       "    </tr>\n",
       "    <tr>\n",
       "      <th>3</th>\n",
       "      <td>INFINITI</td>\n",
       "      <td>Q50 Hybrid Sport</td>\n",
       "      <td>2015</td>\n",
       "      <td>88,900 mi.</td>\n",
       "      <td>Hybrid</td>\n",
       "      <td>354.0HP 3.5L V6 Cylinder Engine Gas/Electric H...</td>\n",
       "      <td>7-Speed A/T</td>\n",
       "      <td>Black</td>\n",
       "      <td>Black</td>\n",
       "      <td>None reported</td>\n",
       "      <td>Yes</td>\n",
       "      <td>$15,500</td>\n",
       "    </tr>\n",
       "    <tr>\n",
       "      <th>4</th>\n",
       "      <td>Audi</td>\n",
       "      <td>Q3 45 S line Premium Plus</td>\n",
       "      <td>2021</td>\n",
       "      <td>9,835 mi.</td>\n",
       "      <td>Gasoline</td>\n",
       "      <td>2.0L I4 16V GDI DOHC Turbo</td>\n",
       "      <td>8-Speed Automatic</td>\n",
       "      <td>Glacier White Metallic</td>\n",
       "      <td>Black</td>\n",
       "      <td>None reported</td>\n",
       "      <td>No</td>\n",
       "      <td>$34,999</td>\n",
       "    </tr>\n",
       "  </tbody>\n",
       "</table>\n",
       "</div>"
      ],
      "text/plain": [
       "      brand                            model  model_year      milage  \\\n",
       "0      Ford  Utility Police Interceptor Base        2013  51,000 mi.   \n",
       "1   Hyundai                     Palisade SEL        2021  34,742 mi.   \n",
       "2     Lexus                    RX 350 RX 350        2022  22,372 mi.   \n",
       "3  INFINITI                 Q50 Hybrid Sport        2015  88,900 mi.   \n",
       "4      Audi        Q3 45 S line Premium Plus        2021   9,835 mi.   \n",
       "\n",
       "       fuel_type                                             engine  \\\n",
       "0  E85 Flex Fuel  300.0HP 3.7L V6 Cylinder Engine Flex Fuel Capa...   \n",
       "1       Gasoline                               3.8L V6 24V GDI DOHC   \n",
       "2       Gasoline                                     3.5 Liter DOHC   \n",
       "3         Hybrid  354.0HP 3.5L V6 Cylinder Engine Gas/Electric H...   \n",
       "4       Gasoline                         2.0L I4 16V GDI DOHC Turbo   \n",
       "\n",
       "        transmission                 ext_col int_col  \\\n",
       "0        6-Speed A/T                   Black   Black   \n",
       "1  8-Speed Automatic         Moonlight Cloud    Gray   \n",
       "2          Automatic                    Blue   Black   \n",
       "3        7-Speed A/T                   Black   Black   \n",
       "4  8-Speed Automatic  Glacier White Metallic   Black   \n",
       "\n",
       "                                 accident clean_title    price  \n",
       "0  At least 1 accident or damage reported         Yes  $10,300  \n",
       "1  At least 1 accident or damage reported         Yes  $38,005  \n",
       "2                           None reported          No  $54,598  \n",
       "3                           None reported         Yes  $15,500  \n",
       "4                           None reported          No  $34,999  "
      ]
     },
     "execution_count": 815,
     "metadata": {},
     "output_type": "execute_result"
    }
   ],
   "source": [
    "df.head()"
   ]
  },
  {
   "cell_type": "code",
   "execution_count": 816,
   "metadata": {},
   "outputs": [],
   "source": [
    "#dropping the model column\n",
    "\n",
    "df.drop(columns='model',axis=1,inplace=True) "
   ]
  },
  {
   "cell_type": "markdown",
   "metadata": {},
   "source": [
    "#### Dropping years earlier than 2000"
   ]
  },
  {
   "cell_type": "code",
   "execution_count": 817,
   "metadata": {},
   "outputs": [],
   "source": [
    "df = df[(df['model_year']>=2000)]"
   ]
  },
  {
   "cell_type": "markdown",
   "metadata": {},
   "source": [
    "#### Creating 'OTHER' CATEGORY FOR the brands that occur really less in the data i.e less than 50 times"
   ]
  },
  {
   "cell_type": "code",
   "execution_count": 818,
   "metadata": {},
   "outputs": [
    {
     "data": {
      "text/plain": [
       "np.int64(3213)"
      ]
     },
     "execution_count": 818,
     "metadata": {},
     "output_type": "execute_result"
    }
   ],
   "source": [
    "df.brand.value_counts()[df.brand.value_counts() > 50].sum()"
   ]
  },
  {
   "cell_type": "code",
   "execution_count": 819,
   "metadata": {},
   "outputs": [],
   "source": [
    "# Step 1: Count occurrences of each brand\n",
    "brand_counts = df['brand'].value_counts()\n",
    "\n",
    "# Step 2: Identify the brands with counts less than 50 (in this case, we're using a small example, but this can apply to large datasets as well)\n",
    "brands_to_replace = brand_counts[brand_counts < 50].index\n",
    "\n",
    "# Step 3: Replace those brands with 'OTHER'\n",
    "df['brand'] = df['brand'].replace(brands_to_replace, 'OTHER')\n",
    "\n",
    "# Step 4: Check the result (show counts after replacement)\n",
    "brand_counts_after = df['brand'].value_counts()\n",
    "\n"
   ]
  },
  {
   "cell_type": "code",
   "execution_count": 820,
   "metadata": {},
   "outputs": [
    {
     "data": {
      "text/plain": [
       "brand\n",
       "OTHER            403\n",
       "BMW              360\n",
       "Ford             352\n",
       "Mercedes-Benz    305\n",
       "Chevrolet        271\n",
       "Audi             188\n",
       "Toyota           188\n",
       "Porsche          174\n",
       "Lexus            158\n",
       "Jeep             133\n",
       "Land             125\n",
       "Nissan           106\n",
       "Cadillac         100\n",
       "RAM               90\n",
       "Dodge             88\n",
       "GMC               87\n",
       "Kia               71\n",
       "Hyundai           65\n",
       "Subaru            63\n",
       "Acura             60\n",
       "Honda             59\n",
       "Mazda             58\n",
       "INFINITI          56\n",
       "Volkswagen        56\n",
       "Lincoln           50\n",
       "Name: count, dtype: int64"
      ]
     },
     "execution_count": 820,
     "metadata": {},
     "output_type": "execute_result"
    }
   ],
   "source": [
    "df['brand'].value_counts()"
   ]
  },
  {
   "cell_type": "markdown",
   "metadata": {},
   "source": [
    "#### Cleaning the milage column"
   ]
  },
  {
   "cell_type": "code",
   "execution_count": 821,
   "metadata": {},
   "outputs": [],
   "source": [
    "df[\"milage\"] = df[\"milage\"].str.replace(',' , '')"
   ]
  },
  {
   "cell_type": "code",
   "execution_count": 822,
   "metadata": {},
   "outputs": [],
   "source": [
    "df[\"milage\"] = df[\"milage\"].str.replace('mi.' ,'')"
   ]
  },
  {
   "cell_type": "code",
   "execution_count": 823,
   "metadata": {},
   "outputs": [],
   "source": [
    "df[\"milage\"] = df[\"milage\"].str.replace(' ' ,'')\n",
    "df[\"milage\"]  = df[\"milage\"].str.strip()\n"
   ]
  },
  {
   "cell_type": "code",
   "execution_count": 824,
   "metadata": {},
   "outputs": [],
   "source": [
    "df[\"milage\"] = df[\"milage\"].astype(int)"
   ]
  },
  {
   "cell_type": "code",
   "execution_count": 825,
   "metadata": {},
   "outputs": [
    {
     "data": {
      "text/plain": [
       "np.float64(54321.5)"
      ]
     },
     "execution_count": 825,
     "metadata": {},
     "output_type": "execute_result"
    }
   ],
   "source": [
    "df[\"milage\"].median()"
   ]
  },
  {
   "cell_type": "code",
   "execution_count": 826,
   "metadata": {},
   "outputs": [
    {
     "data": {
      "image/png": "[encoded data removed]",
      "text/plain": [
       "<Figure size 640x480 with 1 Axes>"
      ]
     },
     "metadata": {},
     "output_type": "display_data"
    }
   ],
   "source": [
    "import  matplotlib.pyplot as plt\n",
    "\n",
    "plt.boxplot(df['milage'])\n",
    "plt.show()"
   ]
  },
  {
   "cell_type": "markdown",
   "metadata": {},
   "source": [
    "### Removing the outliers from milage column"
   ]
  },
  {
   "cell_type": "code",
   "execution_count": 827,
   "metadata": {},
   "outputs": [],
   "source": [
    "df = df[df['milage']<=200000]"
   ]
  },
  {
   "cell_type": "code",
   "execution_count": 828,
   "metadata": {},
   "outputs": [
    {
     "data": {
      "text/html": [
       "<div>\n",
       "<style scoped>\n",
       "    .dataframe tbody tr th:only-of-type {\n",
       "        vertical-align: middle;\n",
       "    }\n",
       "\n",
       "    .dataframe tbody tr th {\n",
       "        vertical-align: top;\n",
       "    }\n",
       "\n",
       "    .dataframe thead th {\n",
       "        text-align: right;\n",
       "    }\n",
       "</style>\n",
       "<table border=\"1\" class=\"dataframe\">\n",
       "  <thead>\n",
       "    <tr style=\"text-align: right;\">\n",
       "      <th></th>\n",
       "      <th>brand</th>\n",
       "      <th>model_year</th>\n",
       "      <th>milage</th>\n",
       "      <th>fuel_type</th>\n",
       "      <th>engine</th>\n",
       "      <th>transmission</th>\n",
       "      <th>ext_col</th>\n",
       "      <th>int_col</th>\n",
       "      <th>accident</th>\n",
       "      <th>clean_title</th>\n",
       "      <th>price</th>\n",
       "    </tr>\n",
       "  </thead>\n",
       "  <tbody>\n",
       "    <tr>\n",
       "      <th>0</th>\n",
       "      <td>Ford</td>\n",
       "      <td>2013</td>\n",
       "      <td>51000</td>\n",
       "      <td>E85 Flex Fuel</td>\n",
       "      <td>300.0HP 3.7L V6 Cylinder Engine Flex Fuel Capa...</td>\n",
       "      <td>6-Speed A/T</td>\n",
       "      <td>Black</td>\n",
       "      <td>Black</td>\n",
       "      <td>At least 1 accident or damage reported</td>\n",
       "      <td>Yes</td>\n",
       "      <td>$10,300</td>\n",
       "    </tr>\n",
       "    <tr>\n",
       "      <th>1</th>\n",
       "      <td>Hyundai</td>\n",
       "      <td>2021</td>\n",
       "      <td>34742</td>\n",
       "      <td>Gasoline</td>\n",
       "      <td>3.8L V6 24V GDI DOHC</td>\n",
       "      <td>8-Speed Automatic</td>\n",
       "      <td>Moonlight Cloud</td>\n",
       "      <td>Gray</td>\n",
       "      <td>At least 1 accident or damage reported</td>\n",
       "      <td>Yes</td>\n",
       "      <td>$38,005</td>\n",
       "    </tr>\n",
       "    <tr>\n",
       "      <th>2</th>\n",
       "      <td>Lexus</td>\n",
       "      <td>2022</td>\n",
       "      <td>22372</td>\n",
       "      <td>Gasoline</td>\n",
       "      <td>3.5 Liter DOHC</td>\n",
       "      <td>Automatic</td>\n",
       "      <td>Blue</td>\n",
       "      <td>Black</td>\n",
       "      <td>None reported</td>\n",
       "      <td>No</td>\n",
       "      <td>$54,598</td>\n",
       "    </tr>\n",
       "    <tr>\n",
       "      <th>3</th>\n",
       "      <td>INFINITI</td>\n",
       "      <td>2015</td>\n",
       "      <td>88900</td>\n",
       "      <td>Hybrid</td>\n",
       "      <td>354.0HP 3.5L V6 Cylinder Engine Gas/Electric H...</td>\n",
       "      <td>7-Speed A/T</td>\n",
       "      <td>Black</td>\n",
       "      <td>Black</td>\n",
       "      <td>None reported</td>\n",
       "      <td>Yes</td>\n",
       "      <td>$15,500</td>\n",
       "    </tr>\n",
       "    <tr>\n",
       "      <th>4</th>\n",
       "      <td>Audi</td>\n",
       "      <td>2021</td>\n",
       "      <td>9835</td>\n",
       "      <td>Gasoline</td>\n",
       "      <td>2.0L I4 16V GDI DOHC Turbo</td>\n",
       "      <td>8-Speed Automatic</td>\n",
       "      <td>Glacier White Metallic</td>\n",
       "      <td>Black</td>\n",
       "      <td>None reported</td>\n",
       "      <td>No</td>\n",
       "      <td>$34,999</td>\n",
       "    </tr>\n",
       "    <tr>\n",
       "      <th>...</th>\n",
       "      <td>...</td>\n",
       "      <td>...</td>\n",
       "      <td>...</td>\n",
       "      <td>...</td>\n",
       "      <td>...</td>\n",
       "      <td>...</td>\n",
       "      <td>...</td>\n",
       "      <td>...</td>\n",
       "      <td>...</td>\n",
       "      <td>...</td>\n",
       "      <td>...</td>\n",
       "    </tr>\n",
       "    <tr>\n",
       "      <th>4003</th>\n",
       "      <td>Mercedes-Benz</td>\n",
       "      <td>2018</td>\n",
       "      <td>53705</td>\n",
       "      <td>Gasoline</td>\n",
       "      <td>241.0HP 2.0L 4 Cylinder Engine Gasoline Fuel</td>\n",
       "      <td>A/T</td>\n",
       "      <td>Black</td>\n",
       "      <td>Black</td>\n",
       "      <td>At least 1 accident or damage reported</td>\n",
       "      <td>Yes</td>\n",
       "      <td>$25,900</td>\n",
       "    </tr>\n",
       "    <tr>\n",
       "      <th>4004</th>\n",
       "      <td>OTHER</td>\n",
       "      <td>2023</td>\n",
       "      <td>714</td>\n",
       "      <td>Gasoline</td>\n",
       "      <td>6.0L W12 48V PDI DOHC Twin Turbo</td>\n",
       "      <td>8-Speed Automatic with Auto-Shift</td>\n",
       "      <td>C / C</td>\n",
       "      <td>Hotspur</td>\n",
       "      <td>None reported</td>\n",
       "      <td>Yes</td>\n",
       "      <td>$349,950</td>\n",
       "    </tr>\n",
       "    <tr>\n",
       "      <th>4005</th>\n",
       "      <td>Audi</td>\n",
       "      <td>2022</td>\n",
       "      <td>10900</td>\n",
       "      <td>Gasoline</td>\n",
       "      <td>349.0HP 3.0L V6 Cylinder Engine Gasoline Fuel</td>\n",
       "      <td>Transmission w/Dual Shift Mode</td>\n",
       "      <td>Black</td>\n",
       "      <td>Black</td>\n",
       "      <td>None reported</td>\n",
       "      <td>Yes</td>\n",
       "      <td>$53,900</td>\n",
       "    </tr>\n",
       "    <tr>\n",
       "      <th>4007</th>\n",
       "      <td>Ford</td>\n",
       "      <td>2020</td>\n",
       "      <td>33000</td>\n",
       "      <td>Gasoline</td>\n",
       "      <td>450.0HP 3.5L V6 Cylinder Engine Gasoline Fuel</td>\n",
       "      <td>A/T</td>\n",
       "      <td>Blue</td>\n",
       "      <td>Black</td>\n",
       "      <td>None reported</td>\n",
       "      <td>Yes</td>\n",
       "      <td>$62,999</td>\n",
       "    </tr>\n",
       "    <tr>\n",
       "      <th>4008</th>\n",
       "      <td>BMW</td>\n",
       "      <td>2020</td>\n",
       "      <td>43000</td>\n",
       "      <td>Gasoline</td>\n",
       "      <td>248.0HP 2.0L 4 Cylinder Engine Gasoline Fuel</td>\n",
       "      <td>A/T</td>\n",
       "      <td>Gray</td>\n",
       "      <td>Brown</td>\n",
       "      <td>At least 1 accident or damage reported</td>\n",
       "      <td>Yes</td>\n",
       "      <td>$40,000</td>\n",
       "    </tr>\n",
       "  </tbody>\n",
       "</table>\n",
       "<p>3607 rows × 11 columns</p>\n",
       "</div>"
      ],
      "text/plain": [
       "              brand  model_year  milage      fuel_type  \\\n",
       "0              Ford        2013   51000  E85 Flex Fuel   \n",
       "1           Hyundai        2021   34742       Gasoline   \n",
       "2             Lexus        2022   22372       Gasoline   \n",
       "3          INFINITI        2015   88900         Hybrid   \n",
       "4              Audi        2021    9835       Gasoline   \n",
       "...             ...         ...     ...            ...   \n",
       "4003  Mercedes-Benz        2018   53705       Gasoline   \n",
       "4004          OTHER        2023     714       Gasoline   \n",
       "4005           Audi        2022   10900       Gasoline   \n",
       "4007           Ford        2020   33000       Gasoline   \n",
       "4008            BMW        2020   43000       Gasoline   \n",
       "\n",
       "                                                 engine  \\\n",
       "0     300.0HP 3.7L V6 Cylinder Engine Flex Fuel Capa...   \n",
       "1                                  3.8L V6 24V GDI DOHC   \n",
       "2                                        3.5 Liter DOHC   \n",
       "3     354.0HP 3.5L V6 Cylinder Engine Gas/Electric H...   \n",
       "4                            2.0L I4 16V GDI DOHC Turbo   \n",
       "...                                                 ...   \n",
       "4003       241.0HP 2.0L 4 Cylinder Engine Gasoline Fuel   \n",
       "4004                   6.0L W12 48V PDI DOHC Twin Turbo   \n",
       "4005      349.0HP 3.0L V6 Cylinder Engine Gasoline Fuel   \n",
       "4007      450.0HP 3.5L V6 Cylinder Engine Gasoline Fuel   \n",
       "4008       248.0HP 2.0L 4 Cylinder Engine Gasoline Fuel   \n",
       "\n",
       "                           transmission                 ext_col  int_col  \\\n",
       "0                           6-Speed A/T                   Black    Black   \n",
       "1                     8-Speed Automatic         Moonlight Cloud     Gray   \n",
       "2                             Automatic                    Blue    Black   \n",
       "3                           7-Speed A/T                   Black    Black   \n",
       "4                     8-Speed Automatic  Glacier White Metallic    Black   \n",
       "...                                 ...                     ...      ...   \n",
       "4003                                A/T                   Black    Black   \n",
       "4004  8-Speed Automatic with Auto-Shift                   C / C  Hotspur   \n",
       "4005     Transmission w/Dual Shift Mode                   Black    Black   \n",
       "4007                                A/T                    Blue    Black   \n",
       "4008                                A/T                    Gray    Brown   \n",
       "\n",
       "                                    accident clean_title     price  \n",
       "0     At least 1 accident or damage reported         Yes   $10,300  \n",
       "1     At least 1 accident or damage reported         Yes   $38,005  \n",
       "2                              None reported          No   $54,598  \n",
       "3                              None reported         Yes   $15,500  \n",
       "4                              None reported          No   $34,999  \n",
       "...                                      ...         ...       ...  \n",
       "4003  At least 1 accident or damage reported         Yes   $25,900  \n",
       "4004                           None reported         Yes  $349,950  \n",
       "4005                           None reported         Yes   $53,900  \n",
       "4007                           None reported         Yes   $62,999  \n",
       "4008  At least 1 accident or damage reported         Yes   $40,000  \n",
       "\n",
       "[3607 rows x 11 columns]"
      ]
     },
     "execution_count": 828,
     "metadata": {},
     "output_type": "execute_result"
    }
   ],
   "source": [
    "df"
   ]
  },
  {
   "cell_type": "markdown",
   "metadata": {},
   "source": [
    "### Dropping fuel_type which are not neccessary"
   ]
  },
  {
   "cell_type": "code",
   "execution_count": 829,
   "metadata": {},
   "outputs": [
    {
     "data": {
      "text/plain": [
       "fuel_type\n",
       "Gasoline           True\n",
       "Hybrid             True\n",
       "E85 Flex Fuel      True\n",
       "Diesel             True\n",
       "Plug-In Hybrid     True\n",
       "–                 False\n",
       "not supported     False\n",
       "Name: count, dtype: bool"
      ]
     },
     "execution_count": 829,
     "metadata": {},
     "output_type": "execute_result"
    }
   ],
   "source": [
    "df['fuel_type'].value_counts() >= 32"
   ]
  },
  {
   "cell_type": "code",
   "execution_count": 830,
   "metadata": {},
   "outputs": [],
   "source": [
    "# Step 1: Get value counts for the 'fuel_type' column\n",
    "fuel_type_counts = df['fuel_type'].value_counts()\n",
    "\n",
    "# Step 2: Filter fuel types that appear 32 or more times\n",
    "valid_fuel_types = fuel_type_counts[fuel_type_counts >= 32].index\n",
    "\n",
    "# Step 3: Keep only the rows where the 'fuel_type' is in the valid_fuel_types\n",
    "df = df[df['fuel_type'].isin(valid_fuel_types)]\n",
    "\n"
   ]
  },
  {
   "cell_type": "code",
   "execution_count": 831,
   "metadata": {},
   "outputs": [
    {
     "data": {
      "text/plain": [
       "fuel_type\n",
       "Gasoline          3137\n",
       "Hybrid             187\n",
       "E85 Flex Fuel      128\n",
       "Diesel             102\n",
       "Plug-In Hybrid      33\n",
       "Name: count, dtype: int64"
      ]
     },
     "execution_count": 831,
     "metadata": {},
     "output_type": "execute_result"
    }
   ],
   "source": [
    "df['fuel_type'].value_counts() "
   ]
  },
  {
   "cell_type": "code",
   "execution_count": 832,
   "metadata": {},
   "outputs": [
    {
     "data": {
      "text/html": [
       "<div>\n",
       "<style scoped>\n",
       "    .dataframe tbody tr th:only-of-type {\n",
       "        vertical-align: middle;\n",
       "    }\n",
       "\n",
       "    .dataframe tbody tr th {\n",
       "        vertical-align: top;\n",
       "    }\n",
       "\n",
       "    .dataframe thead th {\n",
       "        text-align: right;\n",
       "    }\n",
       "</style>\n",
       "<table border=\"1\" class=\"dataframe\">\n",
       "  <thead>\n",
       "    <tr style=\"text-align: right;\">\n",
       "      <th></th>\n",
       "      <th>brand</th>\n",
       "      <th>model_year</th>\n",
       "      <th>milage</th>\n",
       "      <th>fuel_type</th>\n",
       "      <th>engine</th>\n",
       "      <th>transmission</th>\n",
       "      <th>ext_col</th>\n",
       "      <th>int_col</th>\n",
       "      <th>accident</th>\n",
       "      <th>clean_title</th>\n",
       "      <th>price</th>\n",
       "    </tr>\n",
       "  </thead>\n",
       "  <tbody>\n",
       "    <tr>\n",
       "      <th>0</th>\n",
       "      <td>Ford</td>\n",
       "      <td>2013</td>\n",
       "      <td>51000</td>\n",
       "      <td>E85 Flex Fuel</td>\n",
       "      <td>300.0HP 3.7L V6 Cylinder Engine Flex Fuel Capa...</td>\n",
       "      <td>6-Speed A/T</td>\n",
       "      <td>Black</td>\n",
       "      <td>Black</td>\n",
       "      <td>At least 1 accident or damage reported</td>\n",
       "      <td>Yes</td>\n",
       "      <td>$10,300</td>\n",
       "    </tr>\n",
       "    <tr>\n",
       "      <th>1</th>\n",
       "      <td>Hyundai</td>\n",
       "      <td>2021</td>\n",
       "      <td>34742</td>\n",
       "      <td>Gasoline</td>\n",
       "      <td>3.8L V6 24V GDI DOHC</td>\n",
       "      <td>8-Speed Automatic</td>\n",
       "      <td>Moonlight Cloud</td>\n",
       "      <td>Gray</td>\n",
       "      <td>At least 1 accident or damage reported</td>\n",
       "      <td>Yes</td>\n",
       "      <td>$38,005</td>\n",
       "    </tr>\n",
       "    <tr>\n",
       "      <th>2</th>\n",
       "      <td>Lexus</td>\n",
       "      <td>2022</td>\n",
       "      <td>22372</td>\n",
       "      <td>Gasoline</td>\n",
       "      <td>3.5 Liter DOHC</td>\n",
       "      <td>Automatic</td>\n",
       "      <td>Blue</td>\n",
       "      <td>Black</td>\n",
       "      <td>None reported</td>\n",
       "      <td>No</td>\n",
       "      <td>$54,598</td>\n",
       "    </tr>\n",
       "    <tr>\n",
       "      <th>3</th>\n",
       "      <td>INFINITI</td>\n",
       "      <td>2015</td>\n",
       "      <td>88900</td>\n",
       "      <td>Hybrid</td>\n",
       "      <td>354.0HP 3.5L V6 Cylinder Engine Gas/Electric H...</td>\n",
       "      <td>7-Speed A/T</td>\n",
       "      <td>Black</td>\n",
       "      <td>Black</td>\n",
       "      <td>None reported</td>\n",
       "      <td>Yes</td>\n",
       "      <td>$15,500</td>\n",
       "    </tr>\n",
       "    <tr>\n",
       "      <th>4</th>\n",
       "      <td>Audi</td>\n",
       "      <td>2021</td>\n",
       "      <td>9835</td>\n",
       "      <td>Gasoline</td>\n",
       "      <td>2.0L I4 16V GDI DOHC Turbo</td>\n",
       "      <td>8-Speed Automatic</td>\n",
       "      <td>Glacier White Metallic</td>\n",
       "      <td>Black</td>\n",
       "      <td>None reported</td>\n",
       "      <td>No</td>\n",
       "      <td>$34,999</td>\n",
       "    </tr>\n",
       "  </tbody>\n",
       "</table>\n",
       "</div>"
      ],
      "text/plain": [
       "      brand  model_year  milage      fuel_type  \\\n",
       "0      Ford        2013   51000  E85 Flex Fuel   \n",
       "1   Hyundai        2021   34742       Gasoline   \n",
       "2     Lexus        2022   22372       Gasoline   \n",
       "3  INFINITI        2015   88900         Hybrid   \n",
       "4      Audi        2021    9835       Gasoline   \n",
       "\n",
       "                                              engine       transmission  \\\n",
       "0  300.0HP 3.7L V6 Cylinder Engine Flex Fuel Capa...        6-Speed A/T   \n",
       "1                               3.8L V6 24V GDI DOHC  8-Speed Automatic   \n",
       "2                                     3.5 Liter DOHC          Automatic   \n",
       "3  354.0HP 3.5L V6 Cylinder Engine Gas/Electric H...        7-Speed A/T   \n",
       "4                         2.0L I4 16V GDI DOHC Turbo  8-Speed Automatic   \n",
       "\n",
       "                  ext_col int_col                                accident  \\\n",
       "0                   Black   Black  At least 1 accident or damage reported   \n",
       "1         Moonlight Cloud    Gray  At least 1 accident or damage reported   \n",
       "2                    Blue   Black                           None reported   \n",
       "3                   Black   Black                           None reported   \n",
       "4  Glacier White Metallic   Black                           None reported   \n",
       "\n",
       "  clean_title    price  \n",
       "0         Yes  $10,300  \n",
       "1         Yes  $38,005  \n",
       "2          No  $54,598  \n",
       "3         Yes  $15,500  \n",
       "4          No  $34,999  "
      ]
     },
     "execution_count": 832,
     "metadata": {},
     "output_type": "execute_result"
    }
   ],
   "source": [
    "df.head()"
   ]
  },
  {
   "cell_type": "code",
   "execution_count": 833,
   "metadata": {},
   "outputs": [
    {
     "data": {
      "text/plain": [
       "engine\n",
       "2.0L I4 16V GDI DOHC Turbo                               52\n",
       "355.0HP 5.3L 8 Cylinder Engine Gasoline Fuel             46\n",
       "420.0HP 6.2L 8 Cylinder Engine Gasoline Fuel             46\n",
       "300.0HP 3.0L Straight 6 Cylinder Engine Gasoline Fuel    42\n",
       "240.0HP 2.0L 4 Cylinder Engine Gasoline Fuel             42\n",
       "                                                         ..\n",
       "430.0HP 3.8L Flat 6 Cylinder Engine Gasoline Fuel         1\n",
       "341.0HP 6.0L 8 Cylinder Engine Flex Fuel Capability       1\n",
       "245.0HP 2.5L 4 Cylinder Engine Gas/Electric Hybrid        1\n",
       "444.0HP 5.0L 8 Cylinder Engine Gasoline Fuel              1\n",
       "340.0HP 3.0L V6 Cylinder Engine Flex Fuel Capability      1\n",
       "Name: count, Length: 1046, dtype: int64"
      ]
     },
     "execution_count": 833,
     "metadata": {},
     "output_type": "execute_result"
    }
   ],
   "source": [
    "df['engine'].value_counts()"
   ]
  },
  {
   "cell_type": "code",
   "execution_count": 834,
   "metadata": {},
   "outputs": [
    {
     "data": {
      "text/plain": [
       "brand           0\n",
       "model_year      0\n",
       "milage          0\n",
       "fuel_type       0\n",
       "engine          0\n",
       "transmission    0\n",
       "ext_col         0\n",
       "int_col         0\n",
       "accident        0\n",
       "clean_title     0\n",
       "price           0\n",
       "dtype: int64"
      ]
     },
     "execution_count": 834,
     "metadata": {},
     "output_type": "execute_result"
    }
   ],
   "source": [
    "df.isna().sum()"
   ]
  },
  {
   "cell_type": "code",
   "execution_count": 835,
   "metadata": {},
   "outputs": [
    {
     "data": {
      "text/html": [
       "<div>\n",
       "<style scoped>\n",
       "    .dataframe tbody tr th:only-of-type {\n",
       "        vertical-align: middle;\n",
       "    }\n",
       "\n",
       "    .dataframe tbody tr th {\n",
       "        vertical-align: top;\n",
       "    }\n",
       "\n",
       "    .dataframe thead th {\n",
       "        text-align: right;\n",
       "    }\n",
       "</style>\n",
       "<table border=\"1\" class=\"dataframe\">\n",
       "  <thead>\n",
       "    <tr style=\"text-align: right;\">\n",
       "      <th></th>\n",
       "      <th>brand</th>\n",
       "      <th>model_year</th>\n",
       "      <th>milage</th>\n",
       "      <th>fuel_type</th>\n",
       "      <th>engine</th>\n",
       "      <th>transmission</th>\n",
       "      <th>ext_col</th>\n",
       "      <th>int_col</th>\n",
       "      <th>accident</th>\n",
       "      <th>clean_title</th>\n",
       "      <th>price</th>\n",
       "    </tr>\n",
       "  </thead>\n",
       "  <tbody>\n",
       "    <tr>\n",
       "      <th>0</th>\n",
       "      <td>Ford</td>\n",
       "      <td>2013</td>\n",
       "      <td>51000</td>\n",
       "      <td>E85 Flex Fuel</td>\n",
       "      <td>300.0HP 3.7L V6 Cylinder Engine Flex Fuel Capa...</td>\n",
       "      <td>6-Speed A/T</td>\n",
       "      <td>Black</td>\n",
       "      <td>Black</td>\n",
       "      <td>At least 1 accident or damage reported</td>\n",
       "      <td>Yes</td>\n",
       "      <td>$10,300</td>\n",
       "    </tr>\n",
       "    <tr>\n",
       "      <th>1</th>\n",
       "      <td>Hyundai</td>\n",
       "      <td>2021</td>\n",
       "      <td>34742</td>\n",
       "      <td>Gasoline</td>\n",
       "      <td>3.8L V6 24V GDI DOHC</td>\n",
       "      <td>8-Speed Automatic</td>\n",
       "      <td>Moonlight Cloud</td>\n",
       "      <td>Gray</td>\n",
       "      <td>At least 1 accident or damage reported</td>\n",
       "      <td>Yes</td>\n",
       "      <td>$38,005</td>\n",
       "    </tr>\n",
       "    <tr>\n",
       "      <th>2</th>\n",
       "      <td>Lexus</td>\n",
       "      <td>2022</td>\n",
       "      <td>22372</td>\n",
       "      <td>Gasoline</td>\n",
       "      <td>3.5 Liter DOHC</td>\n",
       "      <td>Automatic</td>\n",
       "      <td>Blue</td>\n",
       "      <td>Black</td>\n",
       "      <td>None reported</td>\n",
       "      <td>No</td>\n",
       "      <td>$54,598</td>\n",
       "    </tr>\n",
       "    <tr>\n",
       "      <th>3</th>\n",
       "      <td>INFINITI</td>\n",
       "      <td>2015</td>\n",
       "      <td>88900</td>\n",
       "      <td>Hybrid</td>\n",
       "      <td>354.0HP 3.5L V6 Cylinder Engine Gas/Electric H...</td>\n",
       "      <td>7-Speed A/T</td>\n",
       "      <td>Black</td>\n",
       "      <td>Black</td>\n",
       "      <td>None reported</td>\n",
       "      <td>Yes</td>\n",
       "      <td>$15,500</td>\n",
       "    </tr>\n",
       "    <tr>\n",
       "      <th>4</th>\n",
       "      <td>Audi</td>\n",
       "      <td>2021</td>\n",
       "      <td>9835</td>\n",
       "      <td>Gasoline</td>\n",
       "      <td>2.0L I4 16V GDI DOHC Turbo</td>\n",
       "      <td>8-Speed Automatic</td>\n",
       "      <td>Glacier White Metallic</td>\n",
       "      <td>Black</td>\n",
       "      <td>None reported</td>\n",
       "      <td>No</td>\n",
       "      <td>$34,999</td>\n",
       "    </tr>\n",
       "  </tbody>\n",
       "</table>\n",
       "</div>"
      ],
      "text/plain": [
       "      brand  model_year  milage      fuel_type  \\\n",
       "0      Ford        2013   51000  E85 Flex Fuel   \n",
       "1   Hyundai        2021   34742       Gasoline   \n",
       "2     Lexus        2022   22372       Gasoline   \n",
       "3  INFINITI        2015   88900         Hybrid   \n",
       "4      Audi        2021    9835       Gasoline   \n",
       "\n",
       "                                              engine       transmission  \\\n",
       "0  300.0HP 3.7L V6 Cylinder Engine Flex Fuel Capa...        6-Speed A/T   \n",
       "1                               3.8L V6 24V GDI DOHC  8-Speed Automatic   \n",
       "2                                     3.5 Liter DOHC          Automatic   \n",
       "3  354.0HP 3.5L V6 Cylinder Engine Gas/Electric H...        7-Speed A/T   \n",
       "4                         2.0L I4 16V GDI DOHC Turbo  8-Speed Automatic   \n",
       "\n",
       "                  ext_col int_col                                accident  \\\n",
       "0                   Black   Black  At least 1 accident or damage reported   \n",
       "1         Moonlight Cloud    Gray  At least 1 accident or damage reported   \n",
       "2                    Blue   Black                           None reported   \n",
       "3                   Black   Black                           None reported   \n",
       "4  Glacier White Metallic   Black                           None reported   \n",
       "\n",
       "  clean_title    price  \n",
       "0         Yes  $10,300  \n",
       "1         Yes  $38,005  \n",
       "2          No  $54,598  \n",
       "3         Yes  $15,500  \n",
       "4          No  $34,999  "
      ]
     },
     "execution_count": 835,
     "metadata": {},
     "output_type": "execute_result"
    }
   ],
   "source": [
    "df.head()"
   ]
  },
  {
   "cell_type": "code",
   "execution_count": 836,
   "metadata": {},
   "outputs": [
    {
     "data": {
      "text/plain": [
       "engine\n",
       "2.0L I4 16V GDI DOHC Turbo                               52\n",
       "355.0HP 5.3L 8 Cylinder Engine Gasoline Fuel             46\n",
       "420.0HP 6.2L 8 Cylinder Engine Gasoline Fuel             46\n",
       "300.0HP 3.0L Straight 6 Cylinder Engine Gasoline Fuel    42\n",
       "240.0HP 2.0L 4 Cylinder Engine Gasoline Fuel             42\n",
       "                                                         ..\n",
       "430.0HP 3.8L Flat 6 Cylinder Engine Gasoline Fuel         1\n",
       "341.0HP 6.0L 8 Cylinder Engine Flex Fuel Capability       1\n",
       "245.0HP 2.5L 4 Cylinder Engine Gas/Electric Hybrid        1\n",
       "444.0HP 5.0L 8 Cylinder Engine Gasoline Fuel              1\n",
       "340.0HP 3.0L V6 Cylinder Engine Flex Fuel Capability      1\n",
       "Name: count, Length: 1046, dtype: int64"
      ]
     },
     "execution_count": 836,
     "metadata": {},
     "output_type": "execute_result"
    }
   ],
   "source": [
    "df['engine'].value_counts() "
   ]
  },
  {
   "cell_type": "code",
   "execution_count": 837,
   "metadata": {},
   "outputs": [],
   "source": [
    "import re\n",
    "# Function to extract the engine liter capacity\n",
    "def extract_liter_capacity(engine_str):\n",
    "    match = re.search(r'(\\d+\\.\\d+|\\d+)(?=L)', engine_str)  # Regex to find number(s) before 'L'\n",
    "    if match:\n",
    "        return float(match.group(1))  # Return as float\n",
    "    return None  # Return None if no match\n",
    "\n",
    "# Apply the function to create the new 'engine_liter_capacity' column\n",
    "df['engine_liter_capacity'] = df['engine'].apply(extract_liter_capacity)"
   ]
  },
  {
   "cell_type": "code",
   "execution_count": 838,
   "metadata": {},
   "outputs": [],
   "source": [
    "df['engine_liter_capacity'].fillna(df['engine_liter_capacity'].median(),inplace=True)"
   ]
  },
  {
   "cell_type": "code",
   "execution_count": 839,
   "metadata": {},
   "outputs": [
    {
     "data": {
      "text/plain": [
       "np.int64(0)"
      ]
     },
     "execution_count": 839,
     "metadata": {},
     "output_type": "execute_result"
    }
   ],
   "source": [
    "df['engine_liter_capacity'].isna().sum()"
   ]
  },
  {
   "cell_type": "code",
   "execution_count": 840,
   "metadata": {},
   "outputs": [],
   "source": [
    "df.drop(columns ='engine',axis=1,inplace=True)"
   ]
  },
  {
   "cell_type": "code",
   "execution_count": 841,
   "metadata": {},
   "outputs": [],
   "source": [
    "df['price'] = df['price'].str.replace('$','')\n",
    "df['price'] = df['price'].str.replace(',','')\n",
    "df['price'] = df['price'].str.strip()\n",
    "df['price'] = df['price'].astype(int)"
   ]
  },
  {
   "cell_type": "code",
   "execution_count": 842,
   "metadata": {},
   "outputs": [
    {
     "data": {
      "text/html": [
       "<div>\n",
       "<style scoped>\n",
       "    .dataframe tbody tr th:only-of-type {\n",
       "        vertical-align: middle;\n",
       "    }\n",
       "\n",
       "    .dataframe tbody tr th {\n",
       "        vertical-align: top;\n",
       "    }\n",
       "\n",
       "    .dataframe thead th {\n",
       "        text-align: right;\n",
       "    }\n",
       "</style>\n",
       "<table border=\"1\" class=\"dataframe\">\n",
       "  <thead>\n",
       "    <tr style=\"text-align: right;\">\n",
       "      <th></th>\n",
       "      <th>brand</th>\n",
       "      <th>model_year</th>\n",
       "      <th>milage</th>\n",
       "      <th>fuel_type</th>\n",
       "      <th>transmission</th>\n",
       "      <th>ext_col</th>\n",
       "      <th>int_col</th>\n",
       "      <th>accident</th>\n",
       "      <th>clean_title</th>\n",
       "      <th>price</th>\n",
       "      <th>engine_liter_capacity</th>\n",
       "    </tr>\n",
       "  </thead>\n",
       "  <tbody>\n",
       "    <tr>\n",
       "      <th>0</th>\n",
       "      <td>Ford</td>\n",
       "      <td>2013</td>\n",
       "      <td>51000</td>\n",
       "      <td>E85 Flex Fuel</td>\n",
       "      <td>6-Speed A/T</td>\n",
       "      <td>Black</td>\n",
       "      <td>Black</td>\n",
       "      <td>At least 1 accident or damage reported</td>\n",
       "      <td>Yes</td>\n",
       "      <td>10300</td>\n",
       "      <td>3.7</td>\n",
       "    </tr>\n",
       "    <tr>\n",
       "      <th>1</th>\n",
       "      <td>Hyundai</td>\n",
       "      <td>2021</td>\n",
       "      <td>34742</td>\n",
       "      <td>Gasoline</td>\n",
       "      <td>8-Speed Automatic</td>\n",
       "      <td>Moonlight Cloud</td>\n",
       "      <td>Gray</td>\n",
       "      <td>At least 1 accident or damage reported</td>\n",
       "      <td>Yes</td>\n",
       "      <td>38005</td>\n",
       "      <td>3.8</td>\n",
       "    </tr>\n",
       "    <tr>\n",
       "      <th>2</th>\n",
       "      <td>Lexus</td>\n",
       "      <td>2022</td>\n",
       "      <td>22372</td>\n",
       "      <td>Gasoline</td>\n",
       "      <td>Automatic</td>\n",
       "      <td>Blue</td>\n",
       "      <td>Black</td>\n",
       "      <td>None reported</td>\n",
       "      <td>No</td>\n",
       "      <td>54598</td>\n",
       "      <td>3.5</td>\n",
       "    </tr>\n",
       "    <tr>\n",
       "      <th>3</th>\n",
       "      <td>INFINITI</td>\n",
       "      <td>2015</td>\n",
       "      <td>88900</td>\n",
       "      <td>Hybrid</td>\n",
       "      <td>7-Speed A/T</td>\n",
       "      <td>Black</td>\n",
       "      <td>Black</td>\n",
       "      <td>None reported</td>\n",
       "      <td>Yes</td>\n",
       "      <td>15500</td>\n",
       "      <td>3.5</td>\n",
       "    </tr>\n",
       "    <tr>\n",
       "      <th>4</th>\n",
       "      <td>Audi</td>\n",
       "      <td>2021</td>\n",
       "      <td>9835</td>\n",
       "      <td>Gasoline</td>\n",
       "      <td>8-Speed Automatic</td>\n",
       "      <td>Glacier White Metallic</td>\n",
       "      <td>Black</td>\n",
       "      <td>None reported</td>\n",
       "      <td>No</td>\n",
       "      <td>34999</td>\n",
       "      <td>2.0</td>\n",
       "    </tr>\n",
       "  </tbody>\n",
       "</table>\n",
       "</div>"
      ],
      "text/plain": [
       "      brand  model_year  milage      fuel_type       transmission  \\\n",
       "0      Ford        2013   51000  E85 Flex Fuel        6-Speed A/T   \n",
       "1   Hyundai        2021   34742       Gasoline  8-Speed Automatic   \n",
       "2     Lexus        2022   22372       Gasoline          Automatic   \n",
       "3  INFINITI        2015   88900         Hybrid        7-Speed A/T   \n",
       "4      Audi        2021    9835       Gasoline  8-Speed Automatic   \n",
       "\n",
       "                  ext_col int_col                                accident  \\\n",
       "0                   Black   Black  At least 1 accident or damage reported   \n",
       "1         Moonlight Cloud    Gray  At least 1 accident or damage reported   \n",
       "2                    Blue   Black                           None reported   \n",
       "3                   Black   Black                           None reported   \n",
       "4  Glacier White Metallic   Black                           None reported   \n",
       "\n",
       "  clean_title  price  engine_liter_capacity  \n",
       "0         Yes  10300                    3.7  \n",
       "1         Yes  38005                    3.8  \n",
       "2          No  54598                    3.5  \n",
       "3         Yes  15500                    3.5  \n",
       "4          No  34999                    2.0  "
      ]
     },
     "execution_count": 842,
     "metadata": {},
     "output_type": "execute_result"
    }
   ],
   "source": [
    "df.head()"
   ]
  },
  {
   "cell_type": "code",
   "execution_count": 843,
   "metadata": {},
   "outputs": [
    {
     "data": {
      "text/plain": [
       "transmission\n",
       "A/T                                                                 864\n",
       "8-Speed A/T                                                         390\n",
       "Transmission w/Dual Shift Mode                                      387\n",
       "6-Speed A/T                                                         347\n",
       "6-Speed M/T                                                         229\n",
       "Automatic                                                           219\n",
       "7-Speed A/T                                                         201\n",
       "8-Speed Automatic                                                   168\n",
       "10-Speed A/T                                                        115\n",
       "5-Speed A/T                                                          76\n",
       "9-Speed A/T                                                          71\n",
       "6-Speed Automatic                                                    65\n",
       "CVT Transmission                                                     61\n",
       "10-Speed Automatic                                                   54\n",
       "4-Speed A/T                                                          52\n",
       "9-Speed Automatic                                                    46\n",
       "5-Speed M/T                                                          42\n",
       "M/T                                                                  37\n",
       "Automatic CVT                                                        36\n",
       "7-Speed Automatic with Auto-Shift                                    24\n",
       "5-Speed Automatic                                                     9\n",
       "8-Speed Automatic with Auto-Shift                                     9\n",
       "7-Speed M/T                                                           9\n",
       "Transmission Overdrive Switch                                         7\n",
       "6-Speed Manual                                                        7\n",
       "7-Speed Automatic                                                     7\n",
       "6-Speed Automatic with Auto-Shift                                     5\n",
       "Variable                                                              4\n",
       "Automatic, 8-Spd                                                      4\n",
       "4-Speed Automatic                                                     4\n",
       "1-Speed Automatic                                                     3\n",
       "2                                                                     3\n",
       "F                                                                     2\n",
       "Automatic, 9-Spd 9G-Tronic                                            2\n",
       "Manual, 6-Spd                                                         2\n",
       "–                                                                     2\n",
       "Manual                                                                2\n",
       "7-Speed Manual                                                        2\n",
       "8-SPEED AT                                                            1\n",
       "CVT-F                                                                 1\n",
       "Auto, 6-Spd w/CmdShft                                                 1\n",
       "Automatic, 8-Spd Sport w/Sport & Manual Modes                         1\n",
       "Automatic, 8-Spd M STEPTRONIC w/Drivelogic, Sport & Manual Modes      1\n",
       "Automatic, 8-Spd PDK Dual-Clutch                                      1\n",
       "Automatic, 8-Spd Dual-Clutch                                          1\n",
       "6-Speed                                                               1\n",
       "7-Speed                                                               1\n",
       "Automatic, 10-Spd                                                     1\n",
       "Automatic, 7-Spd S tronic Dual-Clutch                                 1\n",
       "6-Speed Electronically Controlled Automatic with O                    1\n",
       "6 Speed At/Mt                                                         1\n",
       "8-SPEED A/T                                                           1\n",
       "10-Speed Automatic with Overdrive                                     1\n",
       "7-Speed DCT Automatic                                                 1\n",
       "9-Speed Automatic with Auto-Shift                                     1\n",
       "SCHEDULED FOR OR IN PRODUCTION                                        1\n",
       "6 Speed Mt                                                            1\n",
       "8-Speed Manual                                                        1\n",
       "Name: count, dtype: int64"
      ]
     },
     "execution_count": 843,
     "metadata": {},
     "output_type": "execute_result"
    }
   ],
   "source": [
    "df[\"transmission\"].value_counts()"
   ]
  },
  {
   "cell_type": "code",
   "execution_count": 844,
   "metadata": {},
   "outputs": [],
   "source": [
    "def extract_transmission_type(transmission):\n",
    "        if 'Automatic' in transmission:\n",
    "            return 'Automatic'\n",
    "        elif 'Manual' in transmission:\n",
    "            return 'Manual'\n",
    "        elif 'CVT' in transmission:\n",
    "            return 'CVT'\n",
    "        elif 'DCT' in transmission:\n",
    "            return 'DCT'\n",
    "        elif 'Fixed Gear' in transmission:\n",
    "            return 'Fixed Gear'\n",
    "        elif 'Single-Speed' in transmission:\n",
    "            return 'Single-Speed'\n",
    "        else:\n",
    "            return 'other'  "
   ]
  },
  {
   "cell_type": "code",
   "execution_count": 845,
   "metadata": {},
   "outputs": [],
   "source": [
    "df[\"transmission\"]  = df[\"transmission\"].apply(lambda x : extract_transmission_type(x))"
   ]
  },
  {
   "cell_type": "code",
   "execution_count": 846,
   "metadata": {},
   "outputs": [
    {
     "data": {
      "text/plain": [
       "transmission\n",
       "other        2846\n",
       "Automatic     665\n",
       "CVT            62\n",
       "Manual         14\n",
       "Name: count, dtype: int64"
      ]
     },
     "execution_count": 846,
     "metadata": {},
     "output_type": "execute_result"
    }
   ],
   "source": [
    "df[\"transmission\"].value_counts()"
   ]
  },
  {
   "cell_type": "code",
   "execution_count": 847,
   "metadata": {},
   "outputs": [
    {
     "data": {
      "text/plain": [
       "brand                    262\n",
       "model_year               262\n",
       "milage                   262\n",
       "fuel_type                262\n",
       "transmission             262\n",
       "ext_col                  262\n",
       "int_col                  262\n",
       "accident                 262\n",
       "clean_title              262\n",
       "price                    262\n",
       "engine_liter_capacity    262\n",
       "dtype: int64"
      ]
     },
     "execution_count": 847,
     "metadata": {},
     "output_type": "execute_result"
    }
   ],
   "source": [
    "df[df['price'] > 90000].count()"
   ]
  },
  {
   "cell_type": "code",
   "execution_count": 848,
   "metadata": {},
   "outputs": [],
   "source": [
    "df = df[df['price'] <= 90000]"
   ]
  },
  {
   "cell_type": "code",
   "execution_count": 849,
   "metadata": {},
   "outputs": [
    {
     "data": {
      "text/plain": [
       "brand                    0\n",
       "model_year               0\n",
       "milage                   0\n",
       "fuel_type                0\n",
       "transmission             0\n",
       "ext_col                  0\n",
       "int_col                  0\n",
       "accident                 0\n",
       "clean_title              0\n",
       "price                    0\n",
       "engine_liter_capacity    0\n",
       "dtype: int64"
      ]
     },
     "execution_count": 849,
     "metadata": {},
     "output_type": "execute_result"
    }
   ],
   "source": [
    "df[df['price'] > 90000].count()"
   ]
  },
  {
   "cell_type": "code",
   "execution_count": 850,
   "metadata": {},
   "outputs": [
    {
     "data": {
      "text/plain": [
       "{'whiskers': [<matplotlib.lines.Line2D at 0x1f2f2a3d1c0>,\n",
       "  <matplotlib.lines.Line2D at 0x1f2f2a3ce90>],\n",
       " 'caps': [<matplotlib.lines.Line2D at 0x1f2f2a3cb60>,\n",
       "  <matplotlib.lines.Line2D at 0x1f2f2a3c830>],\n",
       " 'boxes': [<matplotlib.lines.Line2D at 0x1f2f2a3d4c0>],\n",
       " 'medians': [<matplotlib.lines.Line2D at 0x1f2f2a3c710>],\n",
       " 'fliers': [<matplotlib.lines.Line2D at 0x1f2f2a3c230>],\n",
       " 'means': []}"
      ]
     },
     "execution_count": 850,
     "metadata": {},
     "output_type": "execute_result"
    },
    {
     "data": {
      "image/png": "[encoded data removed]",
      "text/plain": [
       "<Figure size 640x480 with 1 Axes>"
      ]
     },
     "metadata": {},
     "output_type": "display_data"
    }
   ],
   "source": [
    "plt.boxplot(df['price'])"
   ]
  },
  {
   "cell_type": "code",
   "execution_count": 851,
   "metadata": {},
   "outputs": [],
   "source": [
    "df['clean_title'] = df['clean_title'].apply(lambda x : 0 if x=='No' else 1)"
   ]
  },
  {
   "cell_type": "code",
   "execution_count": 852,
   "metadata": {},
   "outputs": [
    {
     "data": {
      "text/plain": [
       "clean_title\n",
       "1    2933\n",
       "0     392\n",
       "Name: count, dtype: int64"
      ]
     },
     "execution_count": 852,
     "metadata": {},
     "output_type": "execute_result"
    }
   ],
   "source": [
    "df['clean_title'].value_counts()"
   ]
  },
  {
   "cell_type": "code",
   "execution_count": 853,
   "metadata": {},
   "outputs": [],
   "source": [
    "df['accident'] = df['accident'].apply(lambda x : 0 if x=='None reported' else 1)"
   ]
  },
  {
   "cell_type": "code",
   "execution_count": 854,
   "metadata": {},
   "outputs": [
    {
     "data": {
      "text/plain": [
       "accident\n",
       "0    2413\n",
       "1     912\n",
       "Name: count, dtype: int64"
      ]
     },
     "execution_count": 854,
     "metadata": {},
     "output_type": "execute_result"
    }
   ],
   "source": [
    "df['accident'].value_counts()"
   ]
  },
  {
   "cell_type": "code",
   "execution_count": 855,
   "metadata": {},
   "outputs": [
    {
     "data": {
      "text/plain": [
       "ext_col\n",
       "Black                      769\n",
       "White                      681\n",
       "Gray                       407\n",
       "Silver                     321\n",
       "Blue                       295\n",
       "                          ... \n",
       "Magnetic Gray Clearcoat      1\n",
       "Mountain Air Metallic        1\n",
       "Caspian Blue                 1\n",
       "Black Raven                  1\n",
       "Blue Reflex Mica             1\n",
       "Name: count, Length: 260, dtype: int64"
      ]
     },
     "execution_count": 855,
     "metadata": {},
     "output_type": "execute_result"
    }
   ],
   "source": [
    "df['ext_col'].value_counts()"
   ]
  },
  {
   "cell_type": "code",
   "execution_count": 856,
   "metadata": {},
   "outputs": [],
   "source": [
    "# function to categorize similar colors \n",
    "\n",
    "def categorize_color(color):\n",
    "    color = color.lower()\n",
    "    if any(x in color for x in ['black', 'obsidian', 'raven', 'onyx']):\n",
    "        return 'Black'\n",
    "    elif any(x in color for x in ['white', 'pearl', 'ivory', 'frost']):\n",
    "        return 'White'\n",
    "    elif any(x in color for x in ['blue', 'navy', 'aqua', 'teal']):\n",
    "        return 'Blue'\n",
    "    elif any(x in color for x in ['red', 'ruby', 'garnet']):\n",
    "        return 'Red'\n",
    "    elif any(x in color for x in ['silver', 'gray', 'grey', 'steel']):\n",
    "        return 'Silver_Gray'\n",
    "    elif any(x in color for x in ['green']):\n",
    "        return 'Green'\n",
    "    elif any(x in color for x in ['yellow', 'gold', 'orange']):\n",
    "        return 'Yellow_Orange'\n",
    "    else:\n",
    "        return 'Other'"
   ]
  },
  {
   "cell_type": "code",
   "execution_count": 857,
   "metadata": {},
   "outputs": [],
   "source": [
    "df['ext_col'] = df['ext_col'].apply(lambda x : categorize_color(x))\n"
   ]
  },
  {
   "cell_type": "code",
   "execution_count": 858,
   "metadata": {},
   "outputs": [
    {
     "data": {
      "text/plain": [
       "ext_col\n",
       "Black            865\n",
       "Silver_Gray      810\n",
       "White            800\n",
       "Blue             326\n",
       "Red              239\n",
       "Other            144\n",
       "Yellow_Orange     92\n",
       "Green             49\n",
       "Name: count, dtype: int64"
      ]
     },
     "execution_count": 858,
     "metadata": {},
     "output_type": "execute_result"
    }
   ],
   "source": [
    "df['ext_col'].value_counts()"
   ]
  },
  {
   "cell_type": "code",
   "execution_count": 859,
   "metadata": {},
   "outputs": [],
   "source": [
    "df['int_col'] = df['int_col'].apply(lambda x : categorize_color(x)) "
   ]
  },
  {
   "cell_type": "code",
   "execution_count": 860,
   "metadata": {},
   "outputs": [
    {
     "data": {
      "text/plain": [
       "int_col\n",
       "Black            1821\n",
       "Other             840\n",
       "Silver_Gray       416\n",
       "Red               112\n",
       "White              80\n",
       "Yellow_Orange      27\n",
       "Blue               24\n",
       "Green               5\n",
       "Name: count, dtype: int64"
      ]
     },
     "execution_count": 860,
     "metadata": {},
     "output_type": "execute_result"
    }
   ],
   "source": [
    "df['int_col'].value_counts()"
   ]
  },
  {
   "cell_type": "code",
   "execution_count": 861,
   "metadata": {},
   "outputs": [
    {
     "data": {
      "text/html": [
       "<div>\n",
       "<style scoped>\n",
       "    .dataframe tbody tr th:only-of-type {\n",
       "        vertical-align: middle;\n",
       "    }\n",
       "\n",
       "    .dataframe tbody tr th {\n",
       "        vertical-align: top;\n",
       "    }\n",
       "\n",
       "    .dataframe thead th {\n",
       "        text-align: right;\n",
       "    }\n",
       "</style>\n",
       "<table border=\"1\" class=\"dataframe\">\n",
       "  <thead>\n",
       "    <tr style=\"text-align: right;\">\n",
       "      <th></th>\n",
       "      <th>brand</th>\n",
       "      <th>model_year</th>\n",
       "      <th>milage</th>\n",
       "      <th>fuel_type</th>\n",
       "      <th>transmission</th>\n",
       "      <th>ext_col</th>\n",
       "      <th>int_col</th>\n",
       "      <th>accident</th>\n",
       "      <th>clean_title</th>\n",
       "      <th>price</th>\n",
       "      <th>engine_liter_capacity</th>\n",
       "    </tr>\n",
       "  </thead>\n",
       "  <tbody>\n",
       "    <tr>\n",
       "      <th>0</th>\n",
       "      <td>Ford</td>\n",
       "      <td>2013</td>\n",
       "      <td>51000</td>\n",
       "      <td>E85 Flex Fuel</td>\n",
       "      <td>other</td>\n",
       "      <td>Black</td>\n",
       "      <td>Black</td>\n",
       "      <td>1</td>\n",
       "      <td>1</td>\n",
       "      <td>10300</td>\n",
       "      <td>3.7</td>\n",
       "    </tr>\n",
       "    <tr>\n",
       "      <th>1</th>\n",
       "      <td>Hyundai</td>\n",
       "      <td>2021</td>\n",
       "      <td>34742</td>\n",
       "      <td>Gasoline</td>\n",
       "      <td>Automatic</td>\n",
       "      <td>Other</td>\n",
       "      <td>Silver_Gray</td>\n",
       "      <td>1</td>\n",
       "      <td>1</td>\n",
       "      <td>38005</td>\n",
       "      <td>3.8</td>\n",
       "    </tr>\n",
       "    <tr>\n",
       "      <th>2</th>\n",
       "      <td>Lexus</td>\n",
       "      <td>2022</td>\n",
       "      <td>22372</td>\n",
       "      <td>Gasoline</td>\n",
       "      <td>Automatic</td>\n",
       "      <td>Blue</td>\n",
       "      <td>Black</td>\n",
       "      <td>0</td>\n",
       "      <td>0</td>\n",
       "      <td>54598</td>\n",
       "      <td>3.5</td>\n",
       "    </tr>\n",
       "    <tr>\n",
       "      <th>3</th>\n",
       "      <td>INFINITI</td>\n",
       "      <td>2015</td>\n",
       "      <td>88900</td>\n",
       "      <td>Hybrid</td>\n",
       "      <td>other</td>\n",
       "      <td>Black</td>\n",
       "      <td>Black</td>\n",
       "      <td>0</td>\n",
       "      <td>1</td>\n",
       "      <td>15500</td>\n",
       "      <td>3.5</td>\n",
       "    </tr>\n",
       "    <tr>\n",
       "      <th>4</th>\n",
       "      <td>Audi</td>\n",
       "      <td>2021</td>\n",
       "      <td>9835</td>\n",
       "      <td>Gasoline</td>\n",
       "      <td>Automatic</td>\n",
       "      <td>White</td>\n",
       "      <td>Black</td>\n",
       "      <td>0</td>\n",
       "      <td>0</td>\n",
       "      <td>34999</td>\n",
       "      <td>2.0</td>\n",
       "    </tr>\n",
       "  </tbody>\n",
       "</table>\n",
       "</div>"
      ],
      "text/plain": [
       "      brand  model_year  milage      fuel_type transmission ext_col  \\\n",
       "0      Ford        2013   51000  E85 Flex Fuel        other   Black   \n",
       "1   Hyundai        2021   34742       Gasoline    Automatic   Other   \n",
       "2     Lexus        2022   22372       Gasoline    Automatic    Blue   \n",
       "3  INFINITI        2015   88900         Hybrid        other   Black   \n",
       "4      Audi        2021    9835       Gasoline    Automatic   White   \n",
       "\n",
       "       int_col  accident  clean_title  price  engine_liter_capacity  \n",
       "0        Black         1            1  10300                    3.7  \n",
       "1  Silver_Gray         1            1  38005                    3.8  \n",
       "2        Black         0            0  54598                    3.5  \n",
       "3        Black         0            1  15500                    3.5  \n",
       "4        Black         0            0  34999                    2.0  "
      ]
     },
     "execution_count": 861,
     "metadata": {},
     "output_type": "execute_result"
    }
   ],
   "source": [
    "df.head()"
   ]
  },
  {
   "cell_type": "markdown",
   "metadata": {},
   "source": [
    "#### Model Building ANN"
   ]
  },
  {
   "cell_type": "code",
   "execution_count": 862,
   "metadata": {},
   "outputs": [],
   "source": [
    "X = df.drop(columns = 'price',axis=1)\n",
    "y =  df['price']"
   ]
  },
  {
   "cell_type": "code",
   "execution_count": 863,
   "metadata": {},
   "outputs": [],
   "source": [
    "#lets do train and test split\n",
    "\n",
    "from sklearn.model_selection import train_test_split\n",
    "\n",
    "X_train , X_test , y_train , y_test = train_test_split(X,y,train_size=0.9,random_state=42)    "
   ]
  },
  {
   "cell_type": "code",
   "execution_count": 864,
   "metadata": {},
   "outputs": [
    {
     "data": {
      "text/plain": [
       "(2992, 10)"
      ]
     },
     "execution_count": 864,
     "metadata": {},
     "output_type": "execute_result"
    }
   ],
   "source": [
    "X_train.shape"
   ]
  },
  {
   "cell_type": "code",
   "execution_count": 865,
   "metadata": {},
   "outputs": [
    {
     "data": {
      "text/plain": [
       "(2992,)"
      ]
     },
     "execution_count": 865,
     "metadata": {},
     "output_type": "execute_result"
    }
   ],
   "source": [
    "y_train.shape"
   ]
  },
  {
   "cell_type": "code",
   "execution_count": 866,
   "metadata": {},
   "outputs": [],
   "source": [
    "\n",
    "from sklearn.preprocessing import StandardScaler, OneHotEncoder\n",
    "from sklearn.compose import ColumnTransformer\n",
    "from sklearn.pipeline import Pipeline\n",
    "\n",
    "\n",
    "# List of categorical and numerical columns\n",
    "categorical_cols = ['brand', 'fuel_type', 'transmission', 'ext_col', 'int_col']\n",
    "numerical_cols = ['milage','model_year' ,'engine_liter_capacity']\n",
    "\n",
    "# Create the ColumnTransformer\n",
    "preprocessor = ColumnTransformer(\n",
    "    transformers=[\n",
    "        ('num', StandardScaler(), numerical_cols),  # Apply StandardScaler to numerical columns\n",
    "        ('cat', OneHotEncoder(drop='first', sparse_output=False), categorical_cols)  # Apply OneHotEncoder to categorical columns\n",
    "    ])\n",
    "\n",
    "# Apply the transformations on both training and test data\n",
    "X_train_transformed = preprocessor.fit_transform(X_train)\n",
    "X_test_transformed = preprocessor.transform(X_test)\n",
    "\n",
    "# Convert transformed arrays back to DataFrame for easy viewing\n",
    "# Get the feature names after one-hot encoding\n",
    "cat_feature_names = preprocessor.transformers_[1][1].get_feature_names_out(categorical_cols)\n",
    "feature_names = numerical_cols + list(cat_feature_names)\n",
    "\n",
    "# Convert the numpy arrays into DataFrames\n",
    "X_train_final = pd.DataFrame(X_train_transformed, columns=feature_names)\n",
    "X_test_final = pd.DataFrame(X_test_transformed, columns=feature_names)\n",
    "\n",
    "\n"
   ]
  },
  {
   "cell_type": "code",
   "execution_count": 867,
   "metadata": {},
   "outputs": [],
   "source": [
    "from sklearn.preprocessing import StandardScaler\n",
    "\n",
    "# Initialize StandardScaler\n",
    "target_scaler = StandardScaler()\n",
    "\n",
    "# Fit and transform the target column\n",
    "# Convert the target variable to a NumPy array and reshape it\n",
    "y_train_final = target_scaler.fit_transform(y_train.to_numpy().reshape(-1, 1))\n",
    "y_test_final = target_scaler.transform(y_test.to_numpy().reshape(-1, 1))"
   ]
  },
  {
   "cell_type": "code",
   "execution_count": 868,
   "metadata": {},
   "outputs": [
    {
     "data": {
      "text/html": [
       "<div>\n",
       "<style scoped>\n",
       "    .dataframe tbody tr th:only-of-type {\n",
       "        vertical-align: middle;\n",
       "    }\n",
       "\n",
       "    .dataframe tbody tr th {\n",
       "        vertical-align: top;\n",
       "    }\n",
       "\n",
       "    .dataframe thead th {\n",
       "        text-align: right;\n",
       "    }\n",
       "</style>\n",
       "<table border=\"1\" class=\"dataframe\">\n",
       "  <thead>\n",
       "    <tr style=\"text-align: right;\">\n",
       "      <th></th>\n",
       "      <th>milage</th>\n",
       "      <th>model_year</th>\n",
       "      <th>engine_liter_capacity</th>\n",
       "      <th>brand_Audi</th>\n",
       "      <th>brand_BMW</th>\n",
       "      <th>brand_Cadillac</th>\n",
       "      <th>brand_Chevrolet</th>\n",
       "      <th>brand_Dodge</th>\n",
       "      <th>brand_Ford</th>\n",
       "      <th>brand_GMC</th>\n",
       "      <th>...</th>\n",
       "      <th>ext_col_Silver_Gray</th>\n",
       "      <th>ext_col_White</th>\n",
       "      <th>ext_col_Yellow_Orange</th>\n",
       "      <th>int_col_Blue</th>\n",
       "      <th>int_col_Green</th>\n",
       "      <th>int_col_Other</th>\n",
       "      <th>int_col_Red</th>\n",
       "      <th>int_col_Silver_Gray</th>\n",
       "      <th>int_col_White</th>\n",
       "      <th>int_col_Yellow_Orange</th>\n",
       "    </tr>\n",
       "  </thead>\n",
       "  <tbody>\n",
       "    <tr>\n",
       "      <th>0</th>\n",
       "      <td>-0.364717</td>\n",
       "      <td>0.093681</td>\n",
       "      <td>-0.456415</td>\n",
       "      <td>0.0</td>\n",
       "      <td>0.0</td>\n",
       "      <td>0.0</td>\n",
       "      <td>0.0</td>\n",
       "      <td>0.0</td>\n",
       "      <td>0.0</td>\n",
       "      <td>0.0</td>\n",
       "      <td>...</td>\n",
       "      <td>1.0</td>\n",
       "      <td>0.0</td>\n",
       "      <td>0.0</td>\n",
       "      <td>0.0</td>\n",
       "      <td>0.0</td>\n",
       "      <td>0.0</td>\n",
       "      <td>0.0</td>\n",
       "      <td>0.0</td>\n",
       "      <td>0.0</td>\n",
       "      <td>0.0</td>\n",
       "    </tr>\n",
       "    <tr>\n",
       "      <th>1</th>\n",
       "      <td>1.787301</td>\n",
       "      <td>-0.088446</td>\n",
       "      <td>-0.094304</td>\n",
       "      <td>0.0</td>\n",
       "      <td>0.0</td>\n",
       "      <td>0.0</td>\n",
       "      <td>0.0</td>\n",
       "      <td>0.0</td>\n",
       "      <td>1.0</td>\n",
       "      <td>0.0</td>\n",
       "      <td>...</td>\n",
       "      <td>0.0</td>\n",
       "      <td>0.0</td>\n",
       "      <td>0.0</td>\n",
       "      <td>0.0</td>\n",
       "      <td>0.0</td>\n",
       "      <td>0.0</td>\n",
       "      <td>0.0</td>\n",
       "      <td>1.0</td>\n",
       "      <td>0.0</td>\n",
       "      <td>0.0</td>\n",
       "    </tr>\n",
       "    <tr>\n",
       "      <th>2</th>\n",
       "      <td>-0.139624</td>\n",
       "      <td>-0.634827</td>\n",
       "      <td>1.861096</td>\n",
       "      <td>0.0</td>\n",
       "      <td>0.0</td>\n",
       "      <td>0.0</td>\n",
       "      <td>1.0</td>\n",
       "      <td>0.0</td>\n",
       "      <td>0.0</td>\n",
       "      <td>0.0</td>\n",
       "      <td>...</td>\n",
       "      <td>0.0</td>\n",
       "      <td>0.0</td>\n",
       "      <td>1.0</td>\n",
       "      <td>0.0</td>\n",
       "      <td>0.0</td>\n",
       "      <td>0.0</td>\n",
       "      <td>0.0</td>\n",
       "      <td>0.0</td>\n",
       "      <td>0.0</td>\n",
       "      <td>0.0</td>\n",
       "    </tr>\n",
       "    <tr>\n",
       "      <th>3</th>\n",
       "      <td>-0.824059</td>\n",
       "      <td>1.368570</td>\n",
       "      <td>1.209296</td>\n",
       "      <td>0.0</td>\n",
       "      <td>0.0</td>\n",
       "      <td>0.0</td>\n",
       "      <td>0.0</td>\n",
       "      <td>0.0</td>\n",
       "      <td>0.0</td>\n",
       "      <td>1.0</td>\n",
       "      <td>...</td>\n",
       "      <td>0.0</td>\n",
       "      <td>0.0</td>\n",
       "      <td>0.0</td>\n",
       "      <td>0.0</td>\n",
       "      <td>0.0</td>\n",
       "      <td>0.0</td>\n",
       "      <td>0.0</td>\n",
       "      <td>0.0</td>\n",
       "      <td>0.0</td>\n",
       "      <td>0.0</td>\n",
       "    </tr>\n",
       "    <tr>\n",
       "      <th>4</th>\n",
       "      <td>0.841624</td>\n",
       "      <td>-0.270573</td>\n",
       "      <td>-1.325482</td>\n",
       "      <td>0.0</td>\n",
       "      <td>0.0</td>\n",
       "      <td>0.0</td>\n",
       "      <td>0.0</td>\n",
       "      <td>0.0</td>\n",
       "      <td>0.0</td>\n",
       "      <td>0.0</td>\n",
       "      <td>...</td>\n",
       "      <td>0.0</td>\n",
       "      <td>0.0</td>\n",
       "      <td>0.0</td>\n",
       "      <td>0.0</td>\n",
       "      <td>0.0</td>\n",
       "      <td>1.0</td>\n",
       "      <td>0.0</td>\n",
       "      <td>0.0</td>\n",
       "      <td>0.0</td>\n",
       "      <td>0.0</td>\n",
       "    </tr>\n",
       "    <tr>\n",
       "      <th>...</th>\n",
       "      <td>...</td>\n",
       "      <td>...</td>\n",
       "      <td>...</td>\n",
       "      <td>...</td>\n",
       "      <td>...</td>\n",
       "      <td>...</td>\n",
       "      <td>...</td>\n",
       "      <td>...</td>\n",
       "      <td>...</td>\n",
       "      <td>...</td>\n",
       "      <td>...</td>\n",
       "      <td>...</td>\n",
       "      <td>...</td>\n",
       "      <td>...</td>\n",
       "      <td>...</td>\n",
       "      <td>...</td>\n",
       "      <td>...</td>\n",
       "      <td>...</td>\n",
       "      <td>...</td>\n",
       "      <td>...</td>\n",
       "      <td>...</td>\n",
       "    </tr>\n",
       "    <tr>\n",
       "      <th>2987</th>\n",
       "      <td>2.496559</td>\n",
       "      <td>-0.816954</td>\n",
       "      <td>1.498985</td>\n",
       "      <td>0.0</td>\n",
       "      <td>0.0</td>\n",
       "      <td>0.0</td>\n",
       "      <td>0.0</td>\n",
       "      <td>0.0</td>\n",
       "      <td>0.0</td>\n",
       "      <td>0.0</td>\n",
       "      <td>...</td>\n",
       "      <td>0.0</td>\n",
       "      <td>0.0</td>\n",
       "      <td>1.0</td>\n",
       "      <td>0.0</td>\n",
       "      <td>0.0</td>\n",
       "      <td>1.0</td>\n",
       "      <td>0.0</td>\n",
       "      <td>0.0</td>\n",
       "      <td>0.0</td>\n",
       "      <td>0.0</td>\n",
       "    </tr>\n",
       "    <tr>\n",
       "      <th>2988</th>\n",
       "      <td>2.840442</td>\n",
       "      <td>-0.816954</td>\n",
       "      <td>-0.094304</td>\n",
       "      <td>0.0</td>\n",
       "      <td>0.0</td>\n",
       "      <td>0.0</td>\n",
       "      <td>0.0</td>\n",
       "      <td>0.0</td>\n",
       "      <td>0.0</td>\n",
       "      <td>0.0</td>\n",
       "      <td>...</td>\n",
       "      <td>1.0</td>\n",
       "      <td>0.0</td>\n",
       "      <td>0.0</td>\n",
       "      <td>0.0</td>\n",
       "      <td>0.0</td>\n",
       "      <td>0.0</td>\n",
       "      <td>0.0</td>\n",
       "      <td>0.0</td>\n",
       "      <td>0.0</td>\n",
       "      <td>0.0</td>\n",
       "    </tr>\n",
       "    <tr>\n",
       "      <th>2989</th>\n",
       "      <td>1.626106</td>\n",
       "      <td>-1.181208</td>\n",
       "      <td>-1.542748</td>\n",
       "      <td>0.0</td>\n",
       "      <td>0.0</td>\n",
       "      <td>0.0</td>\n",
       "      <td>0.0</td>\n",
       "      <td>0.0</td>\n",
       "      <td>0.0</td>\n",
       "      <td>0.0</td>\n",
       "      <td>...</td>\n",
       "      <td>0.0</td>\n",
       "      <td>0.0</td>\n",
       "      <td>0.0</td>\n",
       "      <td>0.0</td>\n",
       "      <td>0.0</td>\n",
       "      <td>1.0</td>\n",
       "      <td>0.0</td>\n",
       "      <td>0.0</td>\n",
       "      <td>0.0</td>\n",
       "      <td>0.0</td>\n",
       "    </tr>\n",
       "    <tr>\n",
       "      <th>2990</th>\n",
       "      <td>-0.795473</td>\n",
       "      <td>1.004316</td>\n",
       "      <td>-0.094304</td>\n",
       "      <td>0.0</td>\n",
       "      <td>0.0</td>\n",
       "      <td>0.0</td>\n",
       "      <td>0.0</td>\n",
       "      <td>0.0</td>\n",
       "      <td>1.0</td>\n",
       "      <td>0.0</td>\n",
       "      <td>...</td>\n",
       "      <td>0.0</td>\n",
       "      <td>0.0</td>\n",
       "      <td>0.0</td>\n",
       "      <td>0.0</td>\n",
       "      <td>0.0</td>\n",
       "      <td>1.0</td>\n",
       "      <td>0.0</td>\n",
       "      <td>0.0</td>\n",
       "      <td>0.0</td>\n",
       "      <td>0.0</td>\n",
       "    </tr>\n",
       "    <tr>\n",
       "      <th>2991</th>\n",
       "      <td>-1.000384</td>\n",
       "      <td>0.640062</td>\n",
       "      <td>-1.180637</td>\n",
       "      <td>0.0</td>\n",
       "      <td>0.0</td>\n",
       "      <td>1.0</td>\n",
       "      <td>0.0</td>\n",
       "      <td>0.0</td>\n",
       "      <td>0.0</td>\n",
       "      <td>0.0</td>\n",
       "      <td>...</td>\n",
       "      <td>0.0</td>\n",
       "      <td>0.0</td>\n",
       "      <td>0.0</td>\n",
       "      <td>0.0</td>\n",
       "      <td>0.0</td>\n",
       "      <td>1.0</td>\n",
       "      <td>0.0</td>\n",
       "      <td>0.0</td>\n",
       "      <td>0.0</td>\n",
       "      <td>0.0</td>\n",
       "    </tr>\n",
       "  </tbody>\n",
       "</table>\n",
       "<p>2992 rows × 48 columns</p>\n",
       "</div>"
      ],
      "text/plain": [
       "        milage  model_year  engine_liter_capacity  brand_Audi  brand_BMW  \\\n",
       "0    -0.364717    0.093681              -0.456415         0.0        0.0   \n",
       "1     1.787301   -0.088446              -0.094304         0.0        0.0   \n",
       "2    -0.139624   -0.634827               1.861096         0.0        0.0   \n",
       "3    -0.824059    1.368570               1.209296         0.0        0.0   \n",
       "4     0.841624   -0.270573              -1.325482         0.0        0.0   \n",
       "...        ...         ...                    ...         ...        ...   \n",
       "2987  2.496559   -0.816954               1.498985         0.0        0.0   \n",
       "2988  2.840442   -0.816954              -0.094304         0.0        0.0   \n",
       "2989  1.626106   -1.181208              -1.542748         0.0        0.0   \n",
       "2990 -0.795473    1.004316              -0.094304         0.0        0.0   \n",
       "2991 -1.000384    0.640062              -1.180637         0.0        0.0   \n",
       "\n",
       "      brand_Cadillac  brand_Chevrolet  brand_Dodge  brand_Ford  brand_GMC  \\\n",
       "0                0.0              0.0          0.0         0.0        0.0   \n",
       "1                0.0              0.0          0.0         1.0        0.0   \n",
       "2                0.0              1.0          0.0         0.0        0.0   \n",
       "3                0.0              0.0          0.0         0.0        1.0   \n",
       "4                0.0              0.0          0.0         0.0        0.0   \n",
       "...              ...              ...          ...         ...        ...   \n",
       "2987             0.0              0.0          0.0         0.0        0.0   \n",
       "2988             0.0              0.0          0.0         0.0        0.0   \n",
       "2989             0.0              0.0          0.0         0.0        0.0   \n",
       "2990             0.0              0.0          0.0         1.0        0.0   \n",
       "2991             1.0              0.0          0.0         0.0        0.0   \n",
       "\n",
       "      ...  ext_col_Silver_Gray  ext_col_White  ext_col_Yellow_Orange  \\\n",
       "0     ...                  1.0            0.0                    0.0   \n",
       "1     ...                  0.0            0.0                    0.0   \n",
       "2     ...                  0.0            0.0                    1.0   \n",
       "3     ...                  0.0            0.0                    0.0   \n",
       "4     ...                  0.0            0.0                    0.0   \n",
       "...   ...                  ...            ...                    ...   \n",
       "2987  ...                  0.0            0.0                    1.0   \n",
       "2988  ...                  1.0            0.0                    0.0   \n",
       "2989  ...                  0.0            0.0                    0.0   \n",
       "2990  ...                  0.0            0.0                    0.0   \n",
       "2991  ...                  0.0            0.0                    0.0   \n",
       "\n",
       "      int_col_Blue  int_col_Green  int_col_Other  int_col_Red  \\\n",
       "0              0.0            0.0            0.0          0.0   \n",
       "1              0.0            0.0            0.0          0.0   \n",
       "2              0.0            0.0            0.0          0.0   \n",
       "3              0.0            0.0            0.0          0.0   \n",
       "4              0.0            0.0            1.0          0.0   \n",
       "...            ...            ...            ...          ...   \n",
       "2987           0.0            0.0            1.0          0.0   \n",
       "2988           0.0            0.0            0.0          0.0   \n",
       "2989           0.0            0.0            1.0          0.0   \n",
       "2990           0.0            0.0            1.0          0.0   \n",
       "2991           0.0            0.0            1.0          0.0   \n",
       "\n",
       "      int_col_Silver_Gray  int_col_White  int_col_Yellow_Orange  \n",
       "0                     0.0            0.0                    0.0  \n",
       "1                     1.0            0.0                    0.0  \n",
       "2                     0.0            0.0                    0.0  \n",
       "3                     0.0            0.0                    0.0  \n",
       "4                     0.0            0.0                    0.0  \n",
       "...                   ...            ...                    ...  \n",
       "2987                  0.0            0.0                    0.0  \n",
       "2988                  0.0            0.0                    0.0  \n",
       "2989                  0.0            0.0                    0.0  \n",
       "2990                  0.0            0.0                    0.0  \n",
       "2991                  0.0            0.0                    0.0  \n",
       "\n",
       "[2992 rows x 48 columns]"
      ]
     },
     "execution_count": 868,
     "metadata": {},
     "output_type": "execute_result"
    }
   ],
   "source": [
    "X_train_final"
   ]
  },
  {
   "cell_type": "code",
   "execution_count": 869,
   "metadata": {},
   "outputs": [
    {
     "data": {
      "text/plain": [
       "array([[-0.56389869],\n",
       "       [-0.78630032],\n",
       "       [-0.28842395],\n",
       "       ...,\n",
       "       [-1.29686368],\n",
       "       [ 1.14601599],\n",
       "       [-0.10398224]])"
      ]
     },
     "execution_count": 869,
     "metadata": {},
     "output_type": "execute_result"
    }
   ],
   "source": [
    "y_train_final"
   ]
  },
  {
   "cell_type": "code",
   "execution_count": 870,
   "metadata": {},
   "outputs": [
    {
     "data": {
      "text/plain": [
       "(333, 10)"
      ]
     },
     "execution_count": 870,
     "metadata": {},
     "output_type": "execute_result"
    }
   ],
   "source": [
    "X_test.shape"
   ]
  },
  {
   "cell_type": "code",
   "execution_count": 871,
   "metadata": {},
   "outputs": [
    {
     "data": {
      "text/plain": [
       "(333,)"
      ]
     },
     "execution_count": 871,
     "metadata": {},
     "output_type": "execute_result"
    }
   ],
   "source": [
    "y_test.shape"
   ]
  },
  {
   "cell_type": "markdown",
   "metadata": {},
   "source": [
    "### Tensorflow and keras HyperParameter tuning"
   ]
  },
  {
   "cell_type": "code",
   "execution_count": 872,
   "metadata": {},
   "outputs": [],
   "source": [
    "import keras_tuner\n",
    "import keras"
   ]
  },
  {
   "cell_type": "code",
   "execution_count": 873,
   "metadata": {},
   "outputs": [],
   "source": [
    "def build_model(hp):\n",
    "    model = keras.Sequential()\n",
    "  \n",
    "    model.add(keras.layers.Dense(\n",
    "      hp.Choice('units', [8, 16, 32,64,128,256]),\n",
    "      hp.Choice(\"activation \", ['relu','sigmoid','softmax'])\n",
    "      )\n",
    "       )\n",
    "  \n",
    "    model.add(keras.layers.Dense(\n",
    "      hp.Choice('units', [8, 16, 32,64,128,256]),\n",
    "      activation=hp.Choice('activation', ['relu', 'sigmoid','softmax'])))\n",
    "  \n",
    "    model.add(keras.layers.Dense(\n",
    "      hp.Choice('units', [8, 16, 32,64,128,256]),\n",
    "      activation=hp.Choice('activation', ['relu', 'sigmoid','softmax'])))\n",
    "   \n",
    "  \n",
    "    model.add(keras.layers.Dense(1))\n",
    "\n",
    "    model.compile(loss='mean_squared_error')\n",
    "  \n",
    "    return model"
   ]
  },
  {
   "cell_type": "code",
   "execution_count": 874,
   "metadata": {},
   "outputs": [
    {
     "name": "stdout",
     "output_type": "stream",
     "text": [
      "Reloading Tuner from .\\untitled_project\\tuner0.json\n"
     ]
    }
   ],
   "source": [
    "tuner = keras_tuner.RandomSearch(\n",
    "    build_model,\n",
    "    objective='val_loss',\n",
    "    max_trials=10)"
   ]
  },
  {
   "cell_type": "code",
   "execution_count": 875,
   "metadata": {},
   "outputs": [
    {
     "name": "stdout",
     "output_type": "stream",
     "text": [
      "Trial 10 Complete [00h 00m 04s]\n",
      "val_loss: 0.2643304467201233\n",
      "\n",
      "Best val_loss So Far: 0.22945097088813782\n",
      "Total elapsed time: 00h 18m 07s\n"
     ]
    }
   ],
   "source": [
    "tuner.search(X_train_final, y_train_final, epochs=5, validation_split=0.2)\n",
    "best_model = tuner.get_best_models()[0]"
   ]
  },
  {
   "cell_type": "code",
   "execution_count": 876,
   "metadata": {},
   "outputs": [],
   "source": [
    "best_trial = tuner.oracle.get_best_trials(num_trials=1)[0]\n"
   ]
  },
  {
   "cell_type": "code",
   "execution_count": 877,
   "metadata": {},
   "outputs": [],
   "source": [
    "best_hyperparameters = best_trial.hyperparameters.values\n"
   ]
  },
  {
   "cell_type": "code",
   "execution_count": 878,
   "metadata": {},
   "outputs": [
    {
     "name": "stdout",
     "output_type": "stream",
     "text": [
      "Best Hyperparameters:\n",
      "units: 128\n",
      "activation : relu\n",
      "activation: sigmoid\n"
     ]
    },
    {
     "data": {
      "text/html": [
       "<pre style=\"white-space:pre;overflow-x:auto;line-height:normal;font-family:Menlo,'DejaVu Sans Mono',consolas,'Courier New',monospace\"><span style=\"font-weight: bold\">Model: \"sequential\"</span>\n",
       "</pre>\n"
      ],
      "text/plain": [
       "\u001b[1mModel: \"sequential\"\u001b[0m\n"
      ]
     },
     "metadata": {},
     "output_type": "display_data"
    },
    {
     "data": {
      "text/html": [
       "<pre style=\"white-space:pre;overflow-x:auto;line-height:normal;font-family:Menlo,'DejaVu Sans Mono',consolas,'Courier New',monospace\">┏━━━━━━━━━━━━━━━━━━━━━━━━━━━━━━━━━┳━━━━━━━━━━━━━━━━━━━━━━━━┳━━━━━━━━━━━━━━━┓\n",
       "┃<span style=\"font-weight: bold\"> Layer (type)                    </span>┃<span style=\"font-weight: bold\"> Output Shape           </span>┃<span style=\"font-weight: bold\">       Param # </span>┃\n",
       "┡━━━━━━━━━━━━━━━━━━━━━━━━━━━━━━━━━╇━━━━━━━━━━━━━━━━━━━━━━━━╇━━━━━━━━━━━━━━━┩\n",
       "│ dense (<span style=\"color: #0087ff; text-decoration-color: #0087ff\">Dense</span>)                   │ (<span style=\"color: #00d7ff; text-decoration-color: #00d7ff\">None</span>, <span style=\"color: #00af00; text-decoration-color: #00af00\">128</span>)            │         <span style=\"color: #00af00; text-decoration-color: #00af00\">6,272</span> │\n",
       "├─────────────────────────────────┼────────────────────────┼───────────────┤\n",
       "│ dense_1 (<span style=\"color: #0087ff; text-decoration-color: #0087ff\">Dense</span>)                 │ (<span style=\"color: #00d7ff; text-decoration-color: #00d7ff\">None</span>, <span style=\"color: #00af00; text-decoration-color: #00af00\">128</span>)            │        <span style=\"color: #00af00; text-decoration-color: #00af00\">16,512</span> │\n",
       "├─────────────────────────────────┼────────────────────────┼───────────────┤\n",
       "│ dense_2 (<span style=\"color: #0087ff; text-decoration-color: #0087ff\">Dense</span>)                 │ (<span style=\"color: #00d7ff; text-decoration-color: #00d7ff\">None</span>, <span style=\"color: #00af00; text-decoration-color: #00af00\">128</span>)            │        <span style=\"color: #00af00; text-decoration-color: #00af00\">16,512</span> │\n",
       "├─────────────────────────────────┼────────────────────────┼───────────────┤\n",
       "│ dense_3 (<span style=\"color: #0087ff; text-decoration-color: #0087ff\">Dense</span>)                 │ (<span style=\"color: #00d7ff; text-decoration-color: #00d7ff\">None</span>, <span style=\"color: #00af00; text-decoration-color: #00af00\">1</span>)              │           <span style=\"color: #00af00; text-decoration-color: #00af00\">129</span> │\n",
       "└─────────────────────────────────┴────────────────────────┴───────────────┘\n",
       "</pre>\n"
      ],
      "text/plain": [
       "┏━━━━━━━━━━━━━━━━━━━━━━━━━━━━━━━━━┳━━━━━━━━━━━━━━━━━━━━━━━━┳━━━━━━━━━━━━━━━┓\n",
       "┃\u001b[1m \u001b[0m\u001b[1mLayer (type)                   \u001b[0m\u001b[1m \u001b[0m┃\u001b[1m \u001b[0m\u001b[1mOutput Shape          \u001b[0m\u001b[1m \u001b[0m┃\u001b[1m \u001b[0m\u001b[1m      Param #\u001b[0m\u001b[1m \u001b[0m┃\n",
       "┡━━━━━━━━━━━━━━━━━━━━━━━━━━━━━━━━━╇━━━━━━━━━━━━━━━━━━━━━━━━╇━━━━━━━━━━━━━━━┩\n",
       "│ dense (\u001b[38;5;33mDense\u001b[0m)                   │ (\u001b[38;5;45mNone\u001b[0m, \u001b[38;5;34m128\u001b[0m)            │         \u001b[38;5;34m6,272\u001b[0m │\n",
       "├─────────────────────────────────┼────────────────────────┼───────────────┤\n",
       "│ dense_1 (\u001b[38;5;33mDense\u001b[0m)                 │ (\u001b[38;5;45mNone\u001b[0m, \u001b[38;5;34m128\u001b[0m)            │        \u001b[38;5;34m16,512\u001b[0m │\n",
       "├─────────────────────────────────┼────────────────────────┼───────────────┤\n",
       "│ dense_2 (\u001b[38;5;33mDense\u001b[0m)                 │ (\u001b[38;5;45mNone\u001b[0m, \u001b[38;5;34m128\u001b[0m)            │        \u001b[38;5;34m16,512\u001b[0m │\n",
       "├─────────────────────────────────┼────────────────────────┼───────────────┤\n",
       "│ dense_3 (\u001b[38;5;33mDense\u001b[0m)                 │ (\u001b[38;5;45mNone\u001b[0m, \u001b[38;5;34m1\u001b[0m)              │           \u001b[38;5;34m129\u001b[0m │\n",
       "└─────────────────────────────────┴────────────────────────┴───────────────┘\n"
      ]
     },
     "metadata": {},
     "output_type": "display_data"
    },
    {
     "data": {
      "text/html": [
       "<pre style=\"white-space:pre;overflow-x:auto;line-height:normal;font-family:Menlo,'DejaVu Sans Mono',consolas,'Courier New',monospace\"><span style=\"font-weight: bold\"> Total params: </span><span style=\"color: #00af00; text-decoration-color: #00af00\">39,425</span> (154.00 KB)\n",
       "</pre>\n"
      ],
      "text/plain": [
       "\u001b[1m Total params: \u001b[0m\u001b[38;5;34m39,425\u001b[0m (154.00 KB)\n"
      ]
     },
     "metadata": {},
     "output_type": "display_data"
    },
    {
     "data": {
      "text/html": [
       "<pre style=\"white-space:pre;overflow-x:auto;line-height:normal;font-family:Menlo,'DejaVu Sans Mono',consolas,'Courier New',monospace\"><span style=\"font-weight: bold\"> Trainable params: </span><span style=\"color: #00af00; text-decoration-color: #00af00\">39,425</span> (154.00 KB)\n",
       "</pre>\n"
      ],
      "text/plain": [
       "\u001b[1m Trainable params: \u001b[0m\u001b[38;5;34m39,425\u001b[0m (154.00 KB)\n"
      ]
     },
     "metadata": {},
     "output_type": "display_data"
    },
    {
     "data": {
      "text/html": [
       "<pre style=\"white-space:pre;overflow-x:auto;line-height:normal;font-family:Menlo,'DejaVu Sans Mono',consolas,'Courier New',monospace\"><span style=\"font-weight: bold\"> Non-trainable params: </span><span style=\"color: #00af00; text-decoration-color: #00af00\">0</span> (0.00 B)\n",
       "</pre>\n"
      ],
      "text/plain": [
       "\u001b[1m Non-trainable params: \u001b[0m\u001b[38;5;34m0\u001b[0m (0.00 B)\n"
      ]
     },
     "metadata": {},
     "output_type": "display_data"
    }
   ],
   "source": [
    "print(\"Best Hyperparameters:\")\n",
    "for key, value in best_hyperparameters.items():\n",
    "    print(f\"{key}: {value}\")\n",
    "\n",
    "# Optionally, get the best model\n",
    "best_model = tuner.get_best_models()[0]\n",
    "\n",
    "# Summary of the best model\n",
    "best_model.summary()"
   ]
  },
  {
   "cell_type": "code",
   "execution_count": 879,
   "metadata": {},
   "outputs": [
    {
     "name": "stdout",
     "output_type": "stream",
     "text": [
      "\n",
      "Best Model's Layer Details:\n",
      "Layer: dense\n",
      "  - Units: 128\n",
      "  - Activation: relu\n",
      "\n",
      "Layer: dense_1\n",
      "  - Units: 128\n",
      "  - Activation: sigmoid\n",
      "\n",
      "Layer: dense_2\n",
      "  - Units: 128\n",
      "  - Activation: sigmoid\n",
      "\n",
      "Layer: dense_3\n",
      "  - Units: 1\n",
      "  - Activation: linear\n",
      "\n"
     ]
    }
   ],
   "source": [
    "\n",
    "# Now, get the best model\n",
    "best_model = tuner.get_best_models()[0]\n",
    "\n",
    "# Inspect the layers of the best model and print out the hyperparameters for each layer\n",
    "print(\"\\nBest Model's Layer Details:\")\n",
    "for layer in best_model.layers:\n",
    "    if isinstance(layer, keras.layers.Dense):\n",
    "        print(f\"Layer: {layer.name}\")\n",
    "        print(f\"  - Units: {layer.units}\")\n",
    "        print(f\"  - Activation: {layer.activation.__name__}\")\n",
    "        # print(f\"  - Input shape: {layer.input_shape}\")\n",
    "        # print(f\"  - Output shape: {layer.output_shape}\")\n",
    "        print()"
   ]
  },
  {
   "cell_type": "code",
   "execution_count": 898,
   "metadata": {},
   "outputs": [
    {
     "name": "stdout",
     "output_type": "stream",
     "text": [
      "Epoch 1/30\n",
      "\u001b[1m94/94\u001b[0m \u001b[32m━━━━━━━━━━━━━━━━━━━━\u001b[0m\u001b[37m\u001b[0m \u001b[1m2s\u001b[0m 3ms/step - loss: 0.2488 - r2_score: 0.7489\n",
      "Epoch 2/30\n",
      "\u001b[1m94/94\u001b[0m \u001b[32m━━━━━━━━━━━━━━━━━━━━\u001b[0m\u001b[37m\u001b[0m \u001b[1m0s\u001b[0m 2ms/step - loss: 0.2352 - r2_score: 0.7630\n",
      "Epoch 3/30\n",
      "\u001b[1m94/94\u001b[0m \u001b[32m━━━━━━━━━━━━━━━━━━━━\u001b[0m\u001b[37m\u001b[0m \u001b[1m0s\u001b[0m 2ms/step - loss: 0.2146 - r2_score: 0.7872\n",
      "Epoch 4/30\n",
      "\u001b[1m94/94\u001b[0m \u001b[32m━━━━━━━━━━━━━━━━━━━━\u001b[0m\u001b[37m\u001b[0m \u001b[1m0s\u001b[0m 2ms/step - loss: 0.1973 - r2_score: 0.8058\n",
      "Epoch 5/30\n",
      "\u001b[1m94/94\u001b[0m \u001b[32m━━━━━━━━━━━━━━━━━━━━\u001b[0m\u001b[37m\u001b[0m \u001b[1m0s\u001b[0m 2ms/step - loss: 0.2021 - r2_score: 0.7912\n",
      "Epoch 6/30\n",
      "\u001b[1m94/94\u001b[0m \u001b[32m━━━━━━━━━━━━━━━━━━━━\u001b[0m\u001b[37m\u001b[0m \u001b[1m0s\u001b[0m 3ms/step - loss: 0.1882 - r2_score: 0.8108\n",
      "Epoch 7/30\n",
      "\u001b[1m94/94\u001b[0m \u001b[32m━━━━━━━━━━━━━━━━━━━━\u001b[0m\u001b[37m\u001b[0m \u001b[1m0s\u001b[0m 2ms/step - loss: 0.2138 - r2_score: 0.7860\n",
      "Epoch 8/30\n",
      "\u001b[1m94/94\u001b[0m \u001b[32m━━━━━━━━━━━━━━━━━━━━\u001b[0m\u001b[37m\u001b[0m \u001b[1m0s\u001b[0m 2ms/step - loss: 0.1907 - r2_score: 0.8019\n",
      "Epoch 9/30\n",
      "\u001b[1m94/94\u001b[0m \u001b[32m━━━━━━━━━━━━━━━━━━━━\u001b[0m\u001b[37m\u001b[0m \u001b[1m0s\u001b[0m 2ms/step - loss: 0.1975 - r2_score: 0.8014\n",
      "Epoch 10/30\n",
      "\u001b[1m94/94\u001b[0m \u001b[32m━━━━━━━━━━━━━━━━━━━━\u001b[0m\u001b[37m\u001b[0m \u001b[1m0s\u001b[0m 2ms/step - loss: 0.1901 - r2_score: 0.8132\n",
      "Epoch 11/30\n",
      "\u001b[1m94/94\u001b[0m \u001b[32m━━━━━━━━━━━━━━━━━━━━\u001b[0m\u001b[37m\u001b[0m \u001b[1m0s\u001b[0m 2ms/step - loss: 0.1764 - r2_score: 0.8337\n",
      "Epoch 12/30\n",
      "\u001b[1m94/94\u001b[0m \u001b[32m━━━━━━━━━━━━━━━━━━━━\u001b[0m\u001b[37m\u001b[0m \u001b[1m0s\u001b[0m 3ms/step - loss: 0.1623 - r2_score: 0.8309\n",
      "Epoch 13/30\n",
      "\u001b[1m94/94\u001b[0m \u001b[32m━━━━━━━━━━━━━━━━━━━━\u001b[0m\u001b[37m\u001b[0m \u001b[1m0s\u001b[0m 3ms/step - loss: 0.1611 - r2_score: 0.8412\n",
      "Epoch 14/30\n",
      "\u001b[1m94/94\u001b[0m \u001b[32m━━━━━━━━━━━━━━━━━━━━\u001b[0m\u001b[37m\u001b[0m \u001b[1m0s\u001b[0m 3ms/step - loss: 0.1838 - r2_score: 0.8196\n",
      "Epoch 15/30\n",
      "\u001b[1m94/94\u001b[0m \u001b[32m━━━━━━━━━━━━━━━━━━━━\u001b[0m\u001b[37m\u001b[0m \u001b[1m0s\u001b[0m 3ms/step - loss: 0.1751 - r2_score: 0.8287\n",
      "Epoch 16/30\n",
      "\u001b[1m94/94\u001b[0m \u001b[32m━━━━━━━━━━━━━━━━━━━━\u001b[0m\u001b[37m\u001b[0m \u001b[1m0s\u001b[0m 3ms/step - loss: 0.1566 - r2_score: 0.8429\n",
      "Epoch 17/30\n",
      "\u001b[1m94/94\u001b[0m \u001b[32m━━━━━━━━━━━━━━━━━━━━\u001b[0m\u001b[37m\u001b[0m \u001b[1m0s\u001b[0m 2ms/step - loss: 0.1655 - r2_score: 0.8416\n",
      "Epoch 18/30\n",
      "\u001b[1m94/94\u001b[0m \u001b[32m━━━━━━━━━━━━━━━━━━━━\u001b[0m\u001b[37m\u001b[0m \u001b[1m0s\u001b[0m 3ms/step - loss: 0.1506 - r2_score: 0.8523\n",
      "Epoch 19/30\n",
      "\u001b[1m94/94\u001b[0m \u001b[32m━━━━━━━━━━━━━━━━━━━━\u001b[0m\u001b[37m\u001b[0m \u001b[1m0s\u001b[0m 3ms/step - loss: 0.1523 - r2_score: 0.8456\n",
      "Epoch 20/30\n",
      "\u001b[1m94/94\u001b[0m \u001b[32m━━━━━━━━━━━━━━━━━━━━\u001b[0m\u001b[37m\u001b[0m \u001b[1m0s\u001b[0m 3ms/step - loss: 0.1543 - r2_score: 0.8444\n",
      "Epoch 21/30\n",
      "\u001b[1m94/94\u001b[0m \u001b[32m━━━━━━━━━━━━━━━━━━━━\u001b[0m\u001b[37m\u001b[0m \u001b[1m0s\u001b[0m 3ms/step - loss: 0.1393 - r2_score: 0.8564\n",
      "Epoch 22/30\n",
      "\u001b[1m94/94\u001b[0m \u001b[32m━━━━━━━━━━━━━━━━━━━━\u001b[0m\u001b[37m\u001b[0m \u001b[1m0s\u001b[0m 3ms/step - loss: 0.1486 - r2_score: 0.8526\n",
      "Epoch 23/30\n",
      "\u001b[1m94/94\u001b[0m \u001b[32m━━━━━━━━━━━━━━━━━━━━\u001b[0m\u001b[37m\u001b[0m \u001b[1m0s\u001b[0m 3ms/step - loss: 0.1382 - r2_score: 0.8584\n",
      "Epoch 24/30\n",
      "\u001b[1m94/94\u001b[0m \u001b[32m━━━━━━━━━━━━━━━━━━━━\u001b[0m\u001b[37m\u001b[0m \u001b[1m0s\u001b[0m 3ms/step - loss: 0.1576 - r2_score: 0.8388\n",
      "Epoch 25/30\n",
      "\u001b[1m94/94\u001b[0m \u001b[32m━━━━━━━━━━━━━━━━━━━━\u001b[0m\u001b[37m\u001b[0m \u001b[1m0s\u001b[0m 2ms/step - loss: 0.1394 - r2_score: 0.8582\n",
      "Epoch 26/30\n",
      "\u001b[1m94/94\u001b[0m \u001b[32m━━━━━━━━━━━━━━━━━━━━\u001b[0m\u001b[37m\u001b[0m \u001b[1m0s\u001b[0m 3ms/step - loss: 0.1342 - r2_score: 0.8621\n",
      "Epoch 27/30\n",
      "\u001b[1m94/94\u001b[0m \u001b[32m━━━━━━━━━━━━━━━━━━━━\u001b[0m\u001b[37m\u001b[0m \u001b[1m0s\u001b[0m 3ms/step - loss: 0.1356 - r2_score: 0.8627\n",
      "Epoch 28/30\n",
      "\u001b[1m94/94\u001b[0m \u001b[32m━━━━━━━━━━━━━━━━━━━━\u001b[0m\u001b[37m\u001b[0m \u001b[1m0s\u001b[0m 3ms/step - loss: 0.1353 - r2_score: 0.8669\n",
      "Epoch 29/30\n",
      "\u001b[1m94/94\u001b[0m \u001b[32m━━━━━━━━━━━━━━━━━━━━\u001b[0m\u001b[37m\u001b[0m \u001b[1m0s\u001b[0m 3ms/step - loss: 0.1315 - r2_score: 0.8715\n",
      "Epoch 30/30\n",
      "\u001b[1m94/94\u001b[0m \u001b[32m━━━━━━━━━━━━━━━━━━━━\u001b[0m\u001b[37m\u001b[0m \u001b[1m0s\u001b[0m 3ms/step - loss: 0.1280 - r2_score: 0.8728\n"
     ]
    }
   ],
   "source": [
    "# Get the best model after hyperparameter tuning\n",
    "best_model = tuner.get_best_models()[0]\n",
    "\n",
    "# Compile the best model (if necessary)\n",
    "best_model.compile(optimizer='adam',  # You can use 'adam' or the optimizer that was selected during tuning\n",
    "                   loss='mean_squared_error',  # regression problem\n",
    "                   metrics=['r2_score' ])\n",
    "\n",
    "# Now, train the best model\n",
    "history = best_model.fit(X_train_final, y_train_final, \n",
    "                         epochs=30,  # Choose the number of epochs\n",
    "                        #  batch_size=32,  # You can adjust the batch size\n",
    "                        #  validation_data=(X_val, y_val),  # Optional: Use validation data if available\n",
    "                        #  class_weight={0: 1, 1: 5})  # Adjust class_weight if dealing with imbalanced classes\n",
    ")\n",
    "\n"
   ]
  },
  {
   "cell_type": "code",
   "execution_count": 892,
   "metadata": {},
   "outputs": [
    {
     "name": "stdout",
     "output_type": "stream",
     "text": [
      "\u001b[1m11/11\u001b[0m \u001b[32m━━━━━━━━━━━━━━━━━━━━\u001b[0m\u001b[37m\u001b[0m \u001b[1m0s\u001b[0m 3ms/step \n"
     ]
    }
   ],
   "source": [
    "y_pred_scaled = best_model.predict(X_test_final)\n",
    "y_pred = target_scaler.inverse_transform(y_pred_scaled)"
   ]
  },
  {
   "cell_type": "code",
   "execution_count": 893,
   "metadata": {},
   "outputs": [
    {
     "data": {
      "text/plain": [
       "0.6060748389382554"
      ]
     },
     "execution_count": 893,
     "metadata": {},
     "output_type": "execute_result"
    }
   ],
   "source": [
    "from sklearn.metrics import r2_score , mean_squared_error\n",
    "r2_score(y_pred_scaled , y_test_final)"
   ]
  },
  {
   "cell_type": "code",
   "execution_count": 894,
   "metadata": {},
   "outputs": [
    {
     "data": {
      "text/plain": [
       "1501087104.0"
      ]
     },
     "execution_count": 894,
     "metadata": {},
     "output_type": "execute_result"
    }
   ],
   "source": [
    "mean_squared_error(y_test,y_pred_scaled)"
   ]
  }
 ],
 "metadata": {
  "kernelspec": {
   "display_name": "venv",
   "language": "python",
   "name": "python3"
  },
  "language_info": {
   "codemirror_mode": {
    "name": "ipython",
    "version": 3
   },
   "file_extension": ".py",
   "mimetype": "text/x-python",
   "name": "python",
   "nbconvert_exporter": "python",
   "pygments_lexer": "ipython3",
   "version": "3.12.8"
  }
 },
 "nbformat": 4,
 "nbformat_minor": 2
}
